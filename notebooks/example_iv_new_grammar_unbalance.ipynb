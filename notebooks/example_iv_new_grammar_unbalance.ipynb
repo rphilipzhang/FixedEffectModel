{
 "cells": [
  {
   "cell_type": "markdown",
   "metadata": {},
   "source": [
    "# generate seudo data"
   ]
  },
  {
   "cell_type": "code",
   "execution_count": 1,
   "metadata": {},
   "outputs": [],
   "source": [
    "import numpy as np\n",
    "import pandas as pd\n",
    "from numpy.linalg import eigvalsh, inv, matrix_rank, pinv\n",
    "\n",
    "# import packages\n",
    "from fixedeffect.iv import iv2sls, ivgmm,ivtest\n",
    "from fixedeffect.fe import fixedeffect, did,getfe\n",
    "from fixedeffect.utils.panel_dgp import gen_data,gen_data_causal_engine \n",
    "from fixedeffect.utils.DemeanDataframe import demean_dataframe,demean_dataframe_two_cat\n",
    "\n",
    "N = 100\n",
    "T = 10\n",
    "beta = [-3,1,2,3,4]\n",
    "ate = 1\n",
    "exp_date = 5\n",
    "\n",
    "\n",
    "# generate unbalance panel data\n",
    "df = gen_data_causal_engine(N = 100,\n",
    "                           T = 10,\n",
    "                           beta = [-3,1,1.5,2,2.5,3],\n",
    "                           alpha = 0.9,\n",
    "                           ate = 1,\n",
    "                           exp_date = 3,\n",
    "                           b_unbalance = True,\n",
    "                           unbalance_frac = 0.5)\n",
    " "
   ]
  },
  {
   "cell_type": "markdown",
   "metadata": {},
   "source": [
    "# fixedeffect\n",
    "## check if getfe() function return dummy variables coefficient"
   ]
  },
  {
   "cell_type": "code",
   "execution_count": 3,
   "metadata": {},
   "outputs": [
    {
     "name": "stdout",
     "output_type": "stream",
     "text": [
      "                   High Dimensional Fixed Effect Regression Results                   \n",
      "======================================================================================\n",
      "  Dep. Variable:               y   R-squared(proj model):                     0.4257  \n",
      "  No. Observations:          500   Adj. R-squared(proj model):                0.2803  \n",
      "  DoF of residual:         399.0   R-squared(full model):                     0.4257  \n",
      "  Residual std err:       4.8377   Adj. R-squared(full model):                0.2803  \n",
      "  Covariance Type:     nonrobust   F-statistic(proj model):                   2.9578  \n",
      "  Cluster Method:     no_cluster   Prob (F-statistic (proj model)):        2.124e-14  \n",
      "                                   DoF of F-test (proj model):        [100.0, 399.0]  \n",
      "                                   F-statistic(full model):                   2.9285  \n",
      "                                   Prob (F-statistic (full model)):        3.116e-14  \n",
      "                                   DoF of F-test (full model):            [101, 399]  \n",
      "========================================================================================\n",
      "                   coef nonrobust std err          t      P>|t|     [0.025     0.975]   \n",
      "----------------------------------------------------------------------------------------\n",
      "  x_1           1.22946           0.23721     5.1831     0.0000     0.7631     1.6958   \n",
      "  id_1.0       -7.11518           1.82876    -3.8907     0.0001   -10.7104    -3.5200   \n",
      "  id_10.0      -3.07825           2.42045    -1.2718     0.2042    -7.8367     1.6802   \n",
      "  id_100.0     -1.43688           1.83004    -0.7852     0.4328    -5.0346     2.1609   \n",
      "  id_11.0      -5.39979           2.41887    -2.2324     0.0261   -10.1551    -0.6445   \n",
      "  id_12.0      -2.65879           1.97827    -1.3440     0.1797    -6.5479     1.2303   \n",
      "  id_13.0      -2.17286           1.97498    -1.1002     0.2719    -6.0555     1.7098   \n",
      "  id_14.0      -1.36451           2.41926    -0.5640     0.5731    -6.1206     3.3916   \n",
      "  id_15.0      -4.14479           2.16349    -1.9158     0.0561    -8.3981     0.1085   \n",
      "  id_16.0      -0.25084           2.41944    -0.1037     0.9175    -5.0073     4.5056   \n",
      "  id_17.0      -2.42072           2.42259    -0.9992     0.3183    -7.1834     2.3419   \n",
      "  id_18.0      -4.77769           4.85244    -0.9846     0.3254   -14.3172     4.7618   \n",
      "  id_19.0      -7.03602           1.97589    -3.5609     0.0004   -10.9205    -3.1516   \n",
      "  id_2.0       -5.67006           1.97568    -2.8699     0.0043    -9.5541    -1.7860   \n",
      "  id_20.0      -4.42553           4.84495    -0.9134     0.3616   -13.9503     5.0993   \n",
      "  id_21.0      -4.04906           1.71460    -2.3615     0.0187    -7.4198    -0.6783   \n",
      "  id_22.0      -2.38427           1.97550    -1.2069     0.2282    -6.2680     1.4994   \n",
      "  id_23.0      -3.52183           2.42120    -1.4546     0.1466    -8.2817     1.2381   \n",
      "  id_24.0      -1.45234           2.79480    -0.5197     0.6036    -6.9467     4.0420   \n",
      "  id_25.0      -2.99332           2.41899    -1.2374     0.2167    -7.7489     1.7622   \n",
      "  id_26.0      -6.07124           2.16925    -2.7988     0.0054   -10.3358    -1.8067   \n",
      "  id_27.0      -0.81366           1.97659    -0.4116     0.6808    -4.6995     3.0722   \n",
      "  id_28.0      -1.99288           2.79633    -0.7127     0.4765    -7.4903     3.5045   \n",
      "  id_29.0       0.33604           2.16905     0.1549     0.8770    -3.9281     4.6002   \n",
      "  id_3.0       -5.09306           2.79316    -1.8234     0.0690   -10.5842     0.3981   \n",
      "  id_30.0      -3.41210           2.79361    -1.2214     0.2227    -8.9041     2.0799   \n",
      "  id_31.0      -0.05899           2.79946    -0.0211     0.9832    -5.5625     5.4445   \n",
      "  id_32.0      -6.31503           1.97624    -3.1955     0.0015   -10.2002    -2.4299   \n",
      "  id_33.0      -0.91042           2.16348    -0.4208     0.6741    -5.1637     3.3428   \n",
      "  id_34.0      -1.91271           1.83245    -1.0438     0.2972    -5.5152     1.6897   \n",
      "  id_35.0      -0.43107           1.82855    -0.2357     0.8138    -4.0259     3.1637   \n",
      "  id_36.0      -1.64313           1.97596    -0.8316     0.4062    -5.5277     2.2415   \n",
      "  id_37.0      -3.26121           1.71051    -1.9066     0.0573    -6.6240     0.1015   \n",
      "  id_38.0       1.24894           2.42365     0.5153     0.6066    -3.5158     6.0137   \n",
      "  id_39.0      -3.79736           2.43114    -1.5620     0.1191    -8.5768     0.9821   \n",
      "  id_4.0        1.52120           2.79357     0.5445     0.5864    -3.9707     7.0132   \n",
      "  id_40.0      -7.80298           1.98360    -3.9337     0.0001   -11.7026    -3.9034   \n",
      "  id_41.0      -5.91904           1.97501    -2.9970     0.0029    -9.8018    -2.0363   \n",
      "  id_42.0      -2.25242           3.42086    -0.6584     0.5106    -8.9776     4.4727   \n",
      "  id_43.0      -6.63814           1.97532    -3.3605     0.0009   -10.5215    -2.7548   \n",
      "  id_44.0      -1.84324           1.82989    -1.0073     0.3144    -5.4407     1.7542   \n",
      "  id_45.0       2.14361           4.84323     0.4426     0.6583    -7.3778    11.6651   \n",
      "  id_46.0      -2.44804           1.97714    -1.2382     0.2164    -6.3349     1.4389   \n",
      "  id_47.0      -0.31720           1.97592    -0.1605     0.8725    -4.2017     3.5673   \n",
      "  id_48.0      -2.81041           1.83050    -1.5353     0.1255    -6.4090     0.7882   \n",
      "  id_49.0      -3.02028           2.41981    -1.2481     0.2127    -7.7775     1.7369   \n",
      "  id_5.0       -6.69988           1.83291    -3.6553     0.0003   -10.3033    -3.0965   \n",
      "  id_50.0       0.53067           2.16899     0.2447     0.8068    -3.7334     4.7947   \n",
      "  id_51.0      -3.30227           2.16418    -1.5259     0.1278    -7.5569     0.9524   \n",
      "  id_52.0      -3.50442           2.42144    -1.4472     0.1486    -8.2648     1.2559   \n",
      "  id_53.0      -0.40431           1.97690    -0.2045     0.8381    -4.2908     3.4821   \n",
      "  id_54.0      -3.23103           2.16355    -1.4934     0.1361    -7.4844     1.0224   \n",
      "  id_55.0       0.85933           1.82849     0.4700     0.6386    -2.7354     4.4540   \n",
      "  id_56.0      -1.90226           1.61317    -1.1792     0.2390    -5.0736     1.2691   \n",
      "  id_57.0      -1.65980           2.16725    -0.7659     0.4442    -5.9205     2.6009   \n",
      "  id_58.0       0.78447           2.80212     0.2800     0.7797    -4.7243     6.2932   \n",
      "  id_59.0      -1.91117           2.16361    -0.8833     0.3776    -6.1647     2.3423   \n",
      "  id_6.0       -1.69249           1.83783    -0.9209     0.3577    -5.3055     1.9205   \n",
      "  id_60.0      -1.81951           1.97549    -0.9210     0.3576    -5.7032     2.0642   \n",
      "  id_61.0       2.61904           2.42098     1.0818     0.2800    -2.1404     7.3785   \n",
      "  id_62.0      -2.63441           4.83844    -0.5445     0.5864   -12.1464     6.8776   \n",
      "  id_63.0      -2.58917           2.41903    -1.0703     0.2851    -7.3448     2.1665   \n",
      "  id_64.0      -4.96107           2.16393    -2.2926     0.0224    -9.2152    -0.7069   \n",
      "  id_65.0      -3.61126           2.42030    -1.4921     0.1365    -8.3694     1.1469   \n",
      "  id_66.0      -3.49885           1.97542    -1.7712     0.0773    -7.3824     0.3847   \n",
      "  id_67.0      -7.18613           1.97508    -3.6384     0.0003   -11.0690    -3.3033   \n",
      "  id_68.0      -1.48581           2.16420    -0.6865     0.4928    -5.7405     2.7688   \n",
      "  id_69.0      -1.94917           2.16349    -0.9009     0.3682    -6.2024     2.3041   \n",
      "  id_7.0       -2.42857           2.16543    -1.1215     0.2627    -6.6856     1.8285   \n",
      "  id_70.0      -4.45119           1.82849    -2.4344     0.0154    -8.0459    -0.8565   \n",
      "  id_71.0       7.06685           4.83971     1.4602     0.1450    -2.4477    16.5814   \n",
      "  id_72.0      -0.72350           1.97502    -0.3663     0.7143    -4.6062     3.1592   \n",
      "  id_73.0      -0.70728           2.41915    -0.2924     0.7702    -5.4631     4.0486   \n",
      "  id_74.0      -2.57072           2.41994    -1.0623     0.2887    -7.3281     2.1867   \n",
      "  id_75.0      -1.56871           1.97538    -0.7941     0.4276    -5.4522     2.3147   \n",
      "  id_76.0      -2.15781           2.16812    -0.9952     0.3202    -6.4202     2.1046   \n",
      "  id_77.0      -1.02787           1.82960    -0.5618     0.5746    -4.6247     2.5690   \n",
      "  id_78.0      -3.07460           1.71073    -1.7972     0.0731    -6.4378     0.2886   \n",
      "  id_79.0       0.58400           1.82850     0.3194     0.7496    -3.0107     4.1787   \n",
      "  id_8.0       -4.49724           1.97816    -2.2734     0.0235    -8.3862    -0.6083   \n",
      "  id_80.0      -0.87200           1.83322    -0.4757     0.6346    -4.4760     2.7320   \n",
      "  id_81.0      -3.07228           2.42515    -1.2668     0.2060    -7.8400     1.6954   \n",
      "  id_82.0      -2.56290           3.42353    -0.7486     0.4545    -9.2933     4.1675   \n",
      "  id_83.0      -5.23769           2.16349    -2.4209     0.0159    -9.4909    -0.9844   \n",
      "  id_84.0       2.64659           4.84438     0.5463     0.5851    -6.8771    12.1703   \n",
      "  id_85.0      -1.84530           1.98422    -0.9300     0.3529    -5.7461     2.0555   \n",
      "  id_86.0      -7.80187           3.42088    -2.2807     0.0231   -14.5271    -1.0767   \n",
      "  id_87.0      -3.81281           1.98315    -1.9226     0.0552    -7.7115     0.0859   \n",
      "  id_88.0      -3.77455           1.97499    -1.9112     0.0567    -7.6572     0.1081   \n",
      "  id_89.0      -4.25166           1.98171    -2.1454     0.0325    -8.1476    -0.3558   \n",
      "  id_9.0        0.23738           2.16397     0.1097     0.9127    -4.0168     4.4916   \n",
      "  id_90.0      -0.74586           2.16391    -0.3447     0.7305    -4.9999     3.5082   \n",
      "  id_91.0       0.27375           1.97528     0.1386     0.8898    -3.6095     4.1570   \n",
      "  id_92.0      -1.10242           1.97503    -0.5582     0.5770    -4.9852     2.7803   \n",
      "  id_93.0      -5.16139           1.82939    -2.8214     0.0050    -8.7578    -1.5649   \n",
      "  id_94.0      -2.24410           2.42035    -0.9272     0.3544    -7.0023     2.5141   \n",
      "  id_95.0       2.73307           3.42322     0.7984     0.4251    -3.9967     9.4629   \n",
      "  id_96.0      -5.70305           2.16351    -2.6360     0.0087    -9.9563    -1.4498   \n",
      "  id_97.0       0.47119           1.97680     0.2384     0.8117    -3.4151     4.3574   \n",
      "  id_98.0      -2.33921           2.41899    -0.9670     0.3341    -7.0948     2.4163   \n",
      "  id_99.0      -3.68667           1.97499    -1.8667     0.0627    -7.5694     0.1960   \n",
      "========================================================================================\n"
     ]
    }
   ],
   "source": [
    "df_2 = df.copy()\n",
    "\n",
    "df_2['time'] = df_2['time'].apply(str)\n",
    "df_2['id']   = df_2['id'].apply(str)\n",
    "df_2 = df_2.join(pd.get_dummies(df_2[['id','time']], prefix=['id','time']))\n",
    "\n",
    "y = ['y']\n",
    "exog_x = ['x_1']\n",
    "exog_time = ['time_date_01', 'time_date_02', 'time_date_03',\n",
    "             'time_date_04', 'time_date_05', 'time_date_06', 'time_date_07',\n",
    "             'time_date_08', 'time_date_09', 'time_date_10']\n",
    "\n",
    "exog_x_id = [ 'id_1.0','id_10.0','id_100.0','id_11.0','id_12.0','id_13.0','id_14.0','id_15.0','id_16.0','id_17.0',\n",
    "             'id_18.0','id_19.0','id_2.0','id_20.0','id_21.0','id_22.0','id_23.0','id_24.0','id_25.0','id_26.0',\n",
    "             'id_27.0','id_28.0','id_29.0','id_3.0','id_30.0','id_31.0','id_32.0','id_33.0','id_34.0','id_35.0',\n",
    "             'id_36.0','id_37.0','id_38.0','id_39.0','id_4.0','id_40.0','id_41.0','id_42.0','id_43.0','id_44.0',\n",
    "             'id_45.0','id_46.0','id_47.0','id_48.0','id_49.0','id_5.0','id_50.0','id_51.0','id_52.0','id_53.0',\n",
    "             'id_54.0','id_55.0','id_56.0','id_57.0','id_58.0','id_59.0','id_6.0','id_60.0','id_61.0','id_62.0',\n",
    "             'id_63.0','id_64.0','id_65.0','id_66.0','id_67.0','id_68.0','id_69.0','id_7.0','id_70.0','id_71.0',\n",
    "             'id_72.0','id_73.0','id_74.0','id_75.0','id_76.0','id_77.0','id_78.0','id_79.0','id_8.0','id_80.0',\n",
    "             'id_81.0','id_82.0','id_83.0','id_84.0','id_85.0','id_86.0','id_87.0','id_88.0','id_89.0','id_9.0',\n",
    "             'id_90.0','id_91.0','id_92.0','id_93.0','id_94.0','id_95.0','id_96.0','id_97.0','id_98.0','id_99.0',]\n",
    "#category = ['id']\n",
    "category = []\n",
    "\n",
    "model_fe = fixedeffect(data_df = df_2,\n",
    "                      dependent = y,\n",
    "                      exog_x = exog_x + exog_x_id,\n",
    "                      category = category, noint=True)\n",
    "\n",
    "result = model_fe.fit()\n",
    "result.summary()"
   ]
  },
  {
   "cell_type": "code",
   "execution_count": 4,
   "metadata": {},
   "outputs": [
    {
     "name": "stdout",
     "output_type": "stream",
     "text": [
      "                  High Dimensional Fixed Effect Regression Results                  \n",
      "====================================================================================\n",
      "  Dep. Variable:               y   R-squared(proj model):                   0.0631  \n",
      "  No. Observations:          500   Adj. R-squared(proj model):             -0.1717  \n",
      "  DoF of residual:         399.0   R-squared(full model):                   0.4257  \n",
      "  Residual std err:       4.8377   Adj. R-squared(full model):              0.4246  \n",
      "  Covariance Type:     nonrobust   F-statistic(proj model):                26.8645  \n",
      "  Cluster Method:     no_cluster   Prob (F-statistic (proj model)):      3.474e-07  \n",
      "                                   DoF of F-test (proj model):        [1.0, 399.0]  \n",
      "                                   F-statistic(full model):                 2.9285  \n",
      "                                   Prob (F-statistic (full model)):      3.116e-14  \n",
      "                                   DoF of F-test (full model):          [101, 399]  \n",
      "========================================================================================\n",
      "                   coef nonrobust std err          t      P>|t|     [0.025     0.975]   \n",
      "----------------------------------------------------------------------------------------\n",
      "  x_1           1.22946           0.23721     5.1831     0.0000     0.7631     1.6958   \n",
      "========================================================================================\n"
     ]
    }
   ],
   "source": [
    "y = ['y']\n",
    "exog_x = ['x_1']\n",
    "category = ['id']\n",
    "\n",
    "model_fe = fixedeffect(data_df = df_2,\n",
    "                       dependent = y,\n",
    "                       exog_x = exog_x,\n",
    "                       category = category,\n",
    "                       noint=True)\n",
    "\n",
    "result = model_fe.fit()\n",
    "result.summary()\n",
    "\n"
   ]
  },
  {
   "cell_type": "code",
   "execution_count": 5,
   "metadata": {},
   "outputs": [
    {
     "data": {
      "text/html": [
       "<div>\n",
       "<style scoped>\n",
       "    .dataframe tbody tr th:only-of-type {\n",
       "        vertical-align: middle;\n",
       "    }\n",
       "\n",
       "    .dataframe tbody tr th {\n",
       "        vertical-align: top;\n",
       "    }\n",
       "\n",
       "    .dataframe thead th {\n",
       "        text-align: right;\n",
       "    }\n",
       "</style>\n",
       "<table border=\"1\" class=\"dataframe\">\n",
       "  <thead>\n",
       "    <tr style=\"text-align: right;\">\n",
       "      <th></th>\n",
       "      <th>dummy_name</th>\n",
       "      <th>effect</th>\n",
       "      <th>s.e</th>\n",
       "      <th>t-value</th>\n",
       "      <th>P&gt;|t|</th>\n",
       "    </tr>\n",
       "  </thead>\n",
       "  <tbody>\n",
       "    <tr>\n",
       "      <th>0</th>\n",
       "      <td>id1.0</td>\n",
       "      <td>-7.115177</td>\n",
       "      <td>1.828762</td>\n",
       "      <td>-3.890707</td>\n",
       "      <td>0.000117</td>\n",
       "    </tr>\n",
       "    <tr>\n",
       "      <th>1</th>\n",
       "      <td>id10.0</td>\n",
       "      <td>-3.078249</td>\n",
       "      <td>2.420447</td>\n",
       "      <td>-1.271769</td>\n",
       "      <td>0.204196</td>\n",
       "    </tr>\n",
       "    <tr>\n",
       "      <th>2</th>\n",
       "      <td>id100.0</td>\n",
       "      <td>-1.436876</td>\n",
       "      <td>1.830042</td>\n",
       "      <td>-0.785160</td>\n",
       "      <td>0.432826</td>\n",
       "    </tr>\n",
       "    <tr>\n",
       "      <th>3</th>\n",
       "      <td>id11.0</td>\n",
       "      <td>-5.399794</td>\n",
       "      <td>2.418866</td>\n",
       "      <td>-2.232366</td>\n",
       "      <td>0.026145</td>\n",
       "    </tr>\n",
       "    <tr>\n",
       "      <th>4</th>\n",
       "      <td>id12.0</td>\n",
       "      <td>-2.658788</td>\n",
       "      <td>1.978265</td>\n",
       "      <td>-1.344000</td>\n",
       "      <td>0.179712</td>\n",
       "    </tr>\n",
       "    <tr>\n",
       "      <th>...</th>\n",
       "      <td>...</td>\n",
       "      <td>...</td>\n",
       "      <td>...</td>\n",
       "      <td>...</td>\n",
       "      <td>...</td>\n",
       "    </tr>\n",
       "    <tr>\n",
       "      <th>95</th>\n",
       "      <td>id95.0</td>\n",
       "      <td>2.733067</td>\n",
       "      <td>3.423223</td>\n",
       "      <td>0.798390</td>\n",
       "      <td>0.425119</td>\n",
       "    </tr>\n",
       "    <tr>\n",
       "      <th>96</th>\n",
       "      <td>id96.0</td>\n",
       "      <td>-5.703052</td>\n",
       "      <td>2.163506</td>\n",
       "      <td>-2.636023</td>\n",
       "      <td>0.008716</td>\n",
       "    </tr>\n",
       "    <tr>\n",
       "      <th>97</th>\n",
       "      <td>id97.0</td>\n",
       "      <td>0.471195</td>\n",
       "      <td>1.976801</td>\n",
       "      <td>0.238362</td>\n",
       "      <td>0.811723</td>\n",
       "    </tr>\n",
       "    <tr>\n",
       "      <th>98</th>\n",
       "      <td>id98.0</td>\n",
       "      <td>-2.339210</td>\n",
       "      <td>2.418988</td>\n",
       "      <td>-0.967020</td>\n",
       "      <td>0.334120</td>\n",
       "    </tr>\n",
       "    <tr>\n",
       "      <th>99</th>\n",
       "      <td>id99.0</td>\n",
       "      <td>-3.686667</td>\n",
       "      <td>1.974993</td>\n",
       "      <td>-1.866673</td>\n",
       "      <td>0.062681</td>\n",
       "    </tr>\n",
       "  </tbody>\n",
       "</table>\n",
       "<p>100 rows × 5 columns</p>\n",
       "</div>"
      ],
      "text/plain": [
       "   dummy_name    effect       s.e   t-value     P>|t|\n",
       "0       id1.0 -7.115177  1.828762 -3.890707  0.000117\n",
       "1      id10.0 -3.078249  2.420447 -1.271769  0.204196\n",
       "2     id100.0 -1.436876  1.830042 -0.785160  0.432826\n",
       "3      id11.0 -5.399794  2.418866 -2.232366  0.026145\n",
       "4      id12.0 -2.658788  1.978265 -1.344000  0.179712\n",
       "..        ...       ...       ...       ...       ...\n",
       "95     id95.0  2.733067  3.423223  0.798390  0.425119\n",
       "96     id96.0 -5.703052  2.163506 -2.636023  0.008716\n",
       "97     id97.0  0.471195  1.976801  0.238362  0.811723\n",
       "98     id98.0 -2.339210  2.418988 -0.967020  0.334120\n",
       "99     id99.0 -3.686667  1.974993 -1.866673  0.062681\n",
       "\n",
       "[100 rows x 5 columns]"
      ]
     },
     "execution_count": 5,
     "metadata": {},
     "output_type": "execute_result"
    }
   ],
   "source": [
    "getfe(result)"
   ]
  },
  {
   "cell_type": "markdown",
   "metadata": {},
   "source": [
    "# iv"
   ]
  },
  {
   "cell_type": "markdown",
   "metadata": {},
   "source": [
    "## iv2sls"
   ]
  },
  {
   "cell_type": "code",
   "execution_count": 6,
   "metadata": {},
   "outputs": [
    {
     "name": "stdout",
     "output_type": "stream",
     "text": [
      "dependent variable(s): ['y']\n",
      "independent(exogenous): ['x_1']\n",
      "category variables(fixed effects): ['id', 'time']\n",
      "cluster variables: ['0']\n",
      "endogenous variables: ['x_2']\n",
      "instruments: ['x_3', 'x_4']\n",
      "            High Dimensional Fixed Effect Regression Results           \n",
      "=======================================================================\n",
      "  Dep. Variable:               y   R-squared:               -517.1963  \n",
      "  No. Observations:          500   Adj. R-squared:          -519.2816  \n",
      "  DoF of residual:         389.0   F-statistic:               17.9785  \n",
      "  Residual std err:     114.1245   Prob (F-statistic):      3.405e-08  \n",
      "  Covariance Type:     nonrobust   DoF of F-test:        [2.0, 389.0]  \n",
      "  Cluster Method:     no_cluster                                       \n",
      "========================================================================================\n",
      "                   coef nonrobust std err          t      P>|t|     [0.025     0.975]   \n",
      "----------------------------------------------------------------------------------------\n",
      "  const         5.54856           2.64057     2.1013     0.0363     0.3570    10.7401   \n",
      "  x_1           6.88567           1.83770     3.7469     0.0002     3.2726    10.4987   \n",
      "  hat_x_2    -117.82493          37.89378    -3.1093     0.0020  -192.3272   -43.3227   \n",
      "========================================================================================\n",
      "=============================================\n",
      "             First-Stage F-stat      P > F   \n",
      "---------------------------------------------\n",
      "  x_2                    0.4466     0.7198   \n",
      "=============================================\n"
     ]
    },
    {
     "name": "stderr",
     "output_type": "stream",
     "text": [
      "/Users/zhouxiaoyu/Desktop/FixedEffectModel/fixedeffect/utils/DemeanDataframe.py:30: UserWarning: panel is unbalanced\n",
      "  warnings.warn('panel is unbalanced')\n"
     ]
    }
   ],
   "source": [
    "formula = 'y ~ x_1|id + time|0|(x_2~x_3+x_4)'\n",
    "\n",
    "model_iv2sls = iv2sls(data_df = df,\n",
    "                      formula = formula)\n",
    "result = model_iv2sls.fit()\n",
    "result.summary()\n",
    "\n"
   ]
  },
  {
   "cell_type": "code",
   "execution_count": 7,
   "metadata": {},
   "outputs": [
    {
     "name": "stdout",
     "output_type": "stream",
     "text": [
      "            High Dimensional Fixed Effect Regression Results           \n",
      "=======================================================================\n",
      "  Dep. Variable:               y   R-squared:               -517.1963  \n",
      "  No. Observations:          500   Adj. R-squared:          -519.2816  \n",
      "  DoF of residual:         389.0   F-statistic:               17.9785  \n",
      "  Residual std err:     114.1245   Prob (F-statistic):      3.405e-08  \n",
      "  Covariance Type:     nonrobust   DoF of F-test:        [2.0, 389.0]  \n",
      "  Cluster Method:     no_cluster                                       \n",
      "========================================================================================\n",
      "                   coef nonrobust std err          t      P>|t|     [0.025     0.975]   \n",
      "----------------------------------------------------------------------------------------\n",
      "  const         5.54856           2.64057     2.1013     0.0363     0.3570    10.7401   \n",
      "  x_1           6.88567           1.83770     3.7469     0.0002     3.2726    10.4987   \n",
      "  hat_x_2    -117.82493          37.89378    -3.1093     0.0020  -192.3272   -43.3227   \n",
      "========================================================================================\n",
      "=============================================\n",
      "             First-Stage F-stat      P > F   \n",
      "---------------------------------------------\n",
      "  x_2                    0.4466     0.7198   \n",
      "=============================================\n"
     ]
    }
   ],
   "source": [
    "exog_x = ['x_1']\n",
    "endog_x = ['x_2']\n",
    "iv = ['x_3','x_4']\n",
    "y = ['y']\n",
    "\n",
    "model_iv2sls = iv2sls(data_df = df,\n",
    "                      dependent = y,\n",
    "                      exog_x = exog_x,\n",
    "                      endog_x = endog_x,\n",
    "                      category = ['id','time'],\n",
    "                      iv = iv)\n",
    "\n",
    "result = model_iv2sls.fit()\n",
    "result.summary()"
   ]
  },
  {
   "cell_type": "markdown",
   "metadata": {},
   "source": [
    "## ivgmm"
   ]
  },
  {
   "cell_type": "code",
   "execution_count": 8,
   "metadata": {},
   "outputs": [
    {
     "name": "stdout",
     "output_type": "stream",
     "text": [
      "dependent variable(s): ['y']\n",
      "independent(exogenous): ['x_1']\n",
      "category variables(fixed effects): ['id', 'time']\n",
      "cluster variables: ['0']\n",
      "endogenous variables: ['x_2']\n",
      "instruments: ['x_3', 'x_4']\n",
      "           High Dimensional Fixed Effect Regression Results          \n",
      "=====================================================================\n",
      "  Dep. Variable:               y   R-squared:             -517.1963  \n",
      "  No. Observations:          500   Adj. R-squared:        -516.1599  \n",
      "  DoF of residual:           389   F-statistic:              0.0408  \n",
      "  Residual std err:     134.3433   Prob (F-statistic):       0.9600  \n",
      "  Covariance Type:     nonrobust   DoF of F-test:          [2, 389]  \n",
      "  Cluster Method:     no_cluster                                     \n",
      "========================================================================================\n",
      "                   coef nonrobust std err          t      P>|t|     [0.025     0.975]   \n",
      "----------------------------------------------------------------------------------------\n",
      "  const         5.54856          55.41574     0.1001     0.9203  -103.4033   114.5004   \n",
      "  x_1           6.88567          38.56638     0.1785     0.8584   -68.9390    82.7103   \n",
      "  x_2        -117.82493         795.24799    -0.1482     0.8823 -1681.3469  1445.6971   \n",
      "========================================================================================\n",
      "=============================================\n",
      "             First-Stage F-stat      P > F   \n",
      "---------------------------------------------\n",
      "  x_2                    0.4466     0.7198   \n",
      "=============================================\n"
     ]
    }
   ],
   "source": [
    "\n",
    "formula = 'y ~ x_1|id+time|0|(x_2~x_3+x_4)'\n",
    "\n",
    "model_ivgmm = ivgmm(data_df = df,\n",
    "                    formula = formula)\n",
    "result = model_ivgmm.fit()\n",
    "result.summary()"
   ]
  },
  {
   "cell_type": "code",
   "execution_count": 9,
   "metadata": {},
   "outputs": [
    {
     "name": "stdout",
     "output_type": "stream",
     "text": [
      "           High Dimensional Fixed Effect Regression Results          \n",
      "=====================================================================\n",
      "  Dep. Variable:               y   R-squared:             -517.1963  \n",
      "  No. Observations:          500   Adj. R-squared:        -516.1599  \n",
      "  DoF of residual:           389   F-statistic:              0.0408  \n",
      "  Residual std err:     134.3433   Prob (F-statistic):       0.9600  \n",
      "  Covariance Type:     nonrobust   DoF of F-test:          [2, 389]  \n",
      "  Cluster Method:     no_cluster                                     \n",
      "========================================================================================\n",
      "                   coef nonrobust std err          t      P>|t|     [0.025     0.975]   \n",
      "----------------------------------------------------------------------------------------\n",
      "  const         5.54856          55.41574     0.1001     0.9203  -103.4033   114.5004   \n",
      "  x_1           6.88567          38.56638     0.1785     0.8584   -68.9390    82.7103   \n",
      "  x_2        -117.82493         795.24799    -0.1482     0.8823 -1681.3469  1445.6971   \n",
      "========================================================================================\n",
      "=============================================\n",
      "             First-Stage F-stat      P > F   \n",
      "---------------------------------------------\n",
      "  x_2                    0.4466     0.7198   \n",
      "=============================================\n"
     ]
    }
   ],
   "source": [
    "exog_x = ['x_1']\n",
    "endog_x = ['x_2']\n",
    "iv = ['x_3','x_4']\n",
    "y = ['y']\n",
    "\n",
    "model_ivgmm = ivgmm(data_df = df,\n",
    "                      dependent = y,\n",
    "                      exog_x = exog_x,\n",
    "                      endog_x = endog_x,\n",
    "                      category = ['id','time'],\n",
    "                      iv = iv)\n",
    "\n",
    "result = model_ivgmm.fit()\n",
    "result.summary()"
   ]
  },
  {
   "cell_type": "markdown",
   "metadata": {},
   "source": [
    "## ivtest"
   ]
  },
  {
   "cell_type": "code",
   "execution_count": 10,
   "metadata": {},
   "outputs": [
    {
     "name": "stdout",
     "output_type": "stream",
     "text": [
      "Weak IV test with critical values based on 2SLS size\n",
      "================================================\n",
      "  Cragg-Donald Statistics:            0.011225  \n",
      "  number of instrumental variables:          2  \n",
      "  number of endogenous variables:            1  \n",
      "=============================================================================\n",
      "                                      5%        10%        20%        30%    \n",
      "-----------------------------------------------------------------------------\n",
      "2SLS Size of nominal 5% Wald test    19.9300    11.5900     8.7500     7.2500\n",
      "-----------------------------------------------------------------------------\n",
      "H0: Instruments are weak\n",
      "\n",
      "     Over identification test - nonrobust     \n",
      "==============================================\n",
      "                    test statistics  p values \n",
      "----------------------------------------------\n",
      "Sargan Statistics:           0.3547     0.9494\n",
      "Basmann Statistics:          0.1174     0.9897\n",
      "----------------------------------------------\n",
      "\n",
      "             Tests of endogeneity            \n",
      "=============================================\n",
      "                   test statistics  p values \n",
      "---------------------------------------------\n",
      "Durbin Statistics:         14.0663     0.0002\n",
      "---------------------------------------------\n",
      "H0: variables are exogenous\n"
     ]
    }
   ],
   "source": [
    "from fixedeffect.iv import ivtest\n",
    "\n",
    "ivtest(result)"
   ]
  },
  {
   "cell_type": "markdown",
   "metadata": {},
   "source": [
    "# fixedeffect"
   ]
  },
  {
   "cell_type": "code",
   "execution_count": 12,
   "metadata": {},
   "outputs": [
    {
     "name": "stdout",
     "output_type": "stream",
     "text": [
      "category variable(s) is_nested in cluster variables: True\n",
      "                 High Dimensional Fixed Effect Regression Results                 \n",
      "==================================================================================\n",
      "  Dep. Variable:               y   R-squared(proj model):                 0.0619  \n",
      "  No. Observations:          500   Adj. R-squared(proj model):           -0.2003  \n",
      "  DoF of residual:         390.0   R-squared(full model):                 0.2733  \n",
      "  Residual std err:       4.8496   Adj. R-squared(full model):            0.0684  \n",
      "  Covariance Type:     clustered   F-statistic(proj model):              33.5444  \n",
      "  Cluster Method:            cgm   Prob (F-statistic (proj model)):       0.0003  \n",
      "                                   DoF of F-test (proj model):          [1.0, 9]  \n",
      "                                   F-statistic(full model):               1.3301  \n",
      "                                   Prob (F-statistic (full model)):       0.0260  \n",
      "                                   DoF of F-test (full model):        [110, 390]  \n",
      "======================================================================================\n",
      "                   coef cluster std err          t      P>|t|     [0.025     0.975]   \n",
      "--------------------------------------------------------------------------------------\n",
      "  const        -2.63472         0.00671  -392.7848     0.0000    -2.6479    -2.6215   \n",
      "  x_1           1.21970         0.21059     5.7917     0.0000     0.8057     1.6337   \n",
      "======================================================================================\n"
     ]
    }
   ],
   "source": [
    "exog_x = ['x_1']\n",
    "y = ['y']\n",
    "category = ['id','time']\n",
    "cluster = ['id','time']\n",
    "\n",
    "\n",
    "model_fe = fixedeffect(data_df = df,\n",
    "                      dependent = y,\n",
    "                      exog_x = exog_x,\n",
    "                      category = category,\n",
    "                      cluster = cluster)\n",
    "\n",
    "result = model_fe.fit()\n",
    "result.summary()"
   ]
  },
  {
   "cell_type": "code",
   "execution_count": 13,
   "metadata": {},
   "outputs": [
    {
     "data": {
      "text/html": [
       "<div>\n",
       "<style scoped>\n",
       "    .dataframe tbody tr th:only-of-type {\n",
       "        vertical-align: middle;\n",
       "    }\n",
       "\n",
       "    .dataframe tbody tr th {\n",
       "        vertical-align: top;\n",
       "    }\n",
       "\n",
       "    .dataframe thead th {\n",
       "        text-align: right;\n",
       "    }\n",
       "</style>\n",
       "<table border=\"1\" class=\"dataframe\">\n",
       "  <thead>\n",
       "    <tr style=\"text-align: right;\">\n",
       "      <th></th>\n",
       "      <th>dummy_name</th>\n",
       "      <th>effect</th>\n",
       "      <th>s.e</th>\n",
       "      <th>t-value</th>\n",
       "      <th>P&gt;|t|</th>\n",
       "    </tr>\n",
       "  </thead>\n",
       "  <tbody>\n",
       "    <tr>\n",
       "      <th>0</th>\n",
       "      <td>id1.0</td>\n",
       "      <td>-4.481789</td>\n",
       "      <td>1.830757</td>\n",
       "      <td>-2.448052</td>\n",
       "      <td>0.014803</td>\n",
       "    </tr>\n",
       "    <tr>\n",
       "      <th>1</th>\n",
       "      <td>id2.0</td>\n",
       "      <td>-3.033188</td>\n",
       "      <td>1.978021</td>\n",
       "      <td>-1.533446</td>\n",
       "      <td>0.125977</td>\n",
       "    </tr>\n",
       "    <tr>\n",
       "      <th>2</th>\n",
       "      <td>id3.0</td>\n",
       "      <td>-2.459387</td>\n",
       "      <td>2.796372</td>\n",
       "      <td>-0.879492</td>\n",
       "      <td>0.379676</td>\n",
       "    </tr>\n",
       "    <tr>\n",
       "      <th>3</th>\n",
       "      <td>id4.0</td>\n",
       "      <td>4.153700</td>\n",
       "      <td>2.796630</td>\n",
       "      <td>1.485252</td>\n",
       "      <td>0.138285</td>\n",
       "    </tr>\n",
       "    <tr>\n",
       "      <th>4</th>\n",
       "      <td>id5.0</td>\n",
       "      <td>-4.059919</td>\n",
       "      <td>1.834546</td>\n",
       "      <td>-2.213038</td>\n",
       "      <td>0.027473</td>\n",
       "    </tr>\n",
       "    <tr>\n",
       "      <th>...</th>\n",
       "      <td>...</td>\n",
       "      <td>...</td>\n",
       "      <td>...</td>\n",
       "      <td>...</td>\n",
       "      <td>...</td>\n",
       "    </tr>\n",
       "    <tr>\n",
       "      <th>105</th>\n",
       "      <td>timedate_06</td>\n",
       "      <td>0.250912</td>\n",
       "      <td>0.700805</td>\n",
       "      <td>0.358034</td>\n",
       "      <td>0.720512</td>\n",
       "    </tr>\n",
       "    <tr>\n",
       "      <th>106</th>\n",
       "      <td>timedate_07</td>\n",
       "      <td>0.707517</td>\n",
       "      <td>0.631032</td>\n",
       "      <td>1.121206</td>\n",
       "      <td>0.262890</td>\n",
       "    </tr>\n",
       "    <tr>\n",
       "      <th>107</th>\n",
       "      <td>timedate_08</td>\n",
       "      <td>0.798303</td>\n",
       "      <td>0.685694</td>\n",
       "      <td>1.164226</td>\n",
       "      <td>0.245044</td>\n",
       "    </tr>\n",
       "    <tr>\n",
       "      <th>108</th>\n",
       "      <td>timedate_09</td>\n",
       "      <td>-0.133679</td>\n",
       "      <td>0.672032</td>\n",
       "      <td>-0.198918</td>\n",
       "      <td>0.842431</td>\n",
       "    </tr>\n",
       "    <tr>\n",
       "      <th>109</th>\n",
       "      <td>timedate_10</td>\n",
       "      <td>0.474761</td>\n",
       "      <td>0.706554</td>\n",
       "      <td>0.671939</td>\n",
       "      <td>0.502020</td>\n",
       "    </tr>\n",
       "  </tbody>\n",
       "</table>\n",
       "<p>110 rows × 5 columns</p>\n",
       "</div>"
      ],
      "text/plain": [
       "      dummy_name    effect       s.e   t-value     P>|t|\n",
       "0          id1.0 -4.481789  1.830757 -2.448052  0.014803\n",
       "1          id2.0 -3.033188  1.978021 -1.533446  0.125977\n",
       "2          id3.0 -2.459387  2.796372 -0.879492  0.379676\n",
       "3          id4.0  4.153700  2.796630  1.485252  0.138285\n",
       "4          id5.0 -4.059919  1.834546 -2.213038  0.027473\n",
       "..           ...       ...       ...       ...       ...\n",
       "105  timedate_06  0.250912  0.700805  0.358034  0.720512\n",
       "106  timedate_07  0.707517  0.631032  1.121206  0.262890\n",
       "107  timedate_08  0.798303  0.685694  1.164226  0.245044\n",
       "108  timedate_09 -0.133679  0.672032 -0.198918  0.842431\n",
       "109  timedate_10  0.474761  0.706554  0.671939  0.502020\n",
       "\n",
       "[110 rows x 5 columns]"
      ]
     },
     "execution_count": 13,
     "metadata": {},
     "output_type": "execute_result"
    }
   ],
   "source": [
    "getfe(result)"
   ]
  },
  {
   "cell_type": "code",
   "execution_count": 14,
   "metadata": {},
   "outputs": [
    {
     "name": "stdout",
     "output_type": "stream",
     "text": [
      "                 High Dimensional Fixed Effect Regression Results                 \n",
      "==================================================================================\n",
      "  Dep. Variable:               y   R-squared(proj model):                 0.0619  \n",
      "  No. Observations:          500   Adj. R-squared(proj model):           -0.2003  \n",
      "  DoF of residual:         390.0   R-squared(full model):                 0.2733  \n",
      "  Residual std err:       4.8496   Adj. R-squared(full model):            0.0684  \n",
      "  Covariance Type:     clustered   F-statistic(proj model):              33.5444  \n",
      "  Cluster Method:            cgm   Prob (F-statistic (proj model)):       0.0003  \n",
      "                                   DoF of F-test (proj model):          [1.0, 9]  \n",
      "                                   F-statistic(full model):               1.3301  \n",
      "                                   Prob (F-statistic (full model)):       0.0260  \n",
      "                                   DoF of F-test (full model):        [110, 390]  \n",
      "======================================================================================\n",
      "                   coef cluster std err          t      P>|t|     [0.025     0.975]   \n",
      "--------------------------------------------------------------------------------------\n",
      "  const        -2.63472         0.00671  -392.7848     0.0000    -2.6479    -2.6215   \n",
      "  x_1           1.21970         0.21059     5.7917     0.0000     0.8057     1.6337   \n",
      "======================================================================================\n"
     ]
    },
    {
     "name": "stderr",
     "output_type": "stream",
     "text": [
      "/Users/zhouxiaoyu/Desktop/FixedEffectModel/fixedeffect/utils/DemeanDataframe.py:30: UserWarning: panel is unbalanced\n",
      "  warnings.warn('panel is unbalanced')\n",
      "/Users/zhouxiaoyu/Desktop/FixedEffectModel/fixedeffect/utils/ClusterErr.py:140: UserWarning: Negative eigenvalues set to zero in multi-way clustered variance matrix.\n",
      "  warnings.warn('Negative eigenvalues set to zero in multi-way clustered variance matrix.')\n"
     ]
    }
   ],
   "source": [
    "formula = 'y ~ x_1|id+time|id+time|0'\n",
    "\n",
    "model_fe = fixedeffect(data_df = df,\n",
    "                      formula = formula,no_print=True)\n",
    "result = model_fe.fit()\n",
    "result.summary()"
   ]
  },
  {
   "cell_type": "markdown",
   "metadata": {},
   "source": [
    "# DID"
   ]
  },
  {
   "cell_type": "code",
   "execution_count": 15,
   "metadata": {},
   "outputs": [
    {
     "name": "stdout",
     "output_type": "stream",
     "text": [
      "dependent variable(s): ['y']\n",
      "independent(exogenous): ['x_1']\n",
      "category variables(fixed effects): ['id', 'time']\n",
      "cluster variables: ['0']\n"
     ]
    },
    {
     "name": "stderr",
     "output_type": "stream",
     "text": [
      "/Users/zhouxiaoyu/Desktop/FixedEffectModel/fixedeffect/utils/GenCrossProd.py:55: UserWarning: You are doing DID with group effect where group is exp or base\n",
      "  warnings.warn('You are doing DID with group effect where group is exp or base')\n"
     ]
    },
    {
     "data": {
      "image/png": "[encoded data removed]",
      "text/plain": [
       "<Figure size 720x432 with 1 Axes>"
      ]
     },
     "metadata": {
      "needs_background": "light"
     },
     "output_type": "display_data"
    },
    {
     "name": "stdout",
     "output_type": "stream",
     "text": [
      "                  High Dimensional Fixed Effect Regression Results                  \n",
      "====================================================================================\n",
      "  Dep. Variable:               y   R-squared(proj model):                   0.0502  \n",
      "  No. Observations:          500   Adj. R-squared(proj model):             -0.2216  \n",
      "  DoF of residual:         388.0   R-squared(full model):                   0.0682  \n",
      "  Residual std err:       5.5058   Adj. R-squared(full model):             -0.2008  \n",
      "  Covariance Type:     nonrobust   F-statistic(proj model):                 6.8324  \n",
      "  Cluster Method:     no_cluster   Prob (F-statistic (proj model)):         0.0002  \n",
      "                                   DoF of F-test (proj model):        [3.0, 388.0]  \n",
      "                                   F-statistic(full model):                 0.2528  \n",
      "                                   Prob (F-statistic (full model)):         1.0000  \n",
      "                                   DoF of F-test (full model):          [112, 388]  \n",
      "=======================================================================================================\n",
      "                                  coef nonrobust std err          t      P>|t|     [0.025     0.975]   \n",
      "-------------------------------------------------------------------------------------------------------\n",
      "  const                       -2.78820           0.28307    -9.8499     0.0000    -3.3447    -2.2317   \n",
      "  x_1                          1.09551           0.25013     4.3798     0.0000     0.6037     1.5873   \n",
      "  treatment*post_experiment    0.77049           1.17271     0.6570     0.5116    -1.5352     3.0762   \n",
      "  treatment                    0.15073           0.90125     0.1672     0.8673    -1.6212     1.9227   \n",
      "=======================================================================================================\n"
     ]
    }
   ],
   "source": [
    "formula = 'y ~ x_1|0|0|0'\n",
    "\n",
    "model_did = did(data_df = df,\n",
    "                formula = formula,\n",
    "                treatment = ['treatment'],\n",
    "                csid = ['id'],\n",
    "                tsid = ['time'],\n",
    "                exp_date='date_05',\n",
    "               figsize = (10,6),\n",
    "               fontsize = 20)\n",
    "result = model_did.fit()\n",
    "result.summary()"
   ]
  },
  {
   "cell_type": "markdown",
   "metadata": {},
   "source": [
    "### did等价于固定效应\n",
    "did设置group_effect='treatment'等同于做了如下fix effect:\n",
    "    $y_{it} = \\beta_0 + \\beta_1 T_i + \\beta_2 T_i*post_t + date_t + e_{it}$\n",
    "    \n",
    "did设置group_effect='individual'等同于做了如下fix effect:\n",
    "    $y_{it} = \\beta_0 + \\beta_2 T_i*post_t + user_i+ date_t + e_{it}$    "
   ]
  },
  {
   "cell_type": "code",
   "execution_count": 16,
   "metadata": {},
   "outputs": [
    {
     "name": "stdout",
     "output_type": "stream",
     "text": [
      "dependent variable(s): ['y']\n",
      "independent(exogenous): ['x_1', 'treatment', 'post*treatment']\n",
      "category variables(fixed effects): ['time']\n",
      "cluster variables: ['0']\n",
      "                  High Dimensional Fixed Effect Regression Results                  \n",
      "====================================================================================\n",
      "  Dep. Variable:               y   R-squared(proj model):                   0.0502  \n",
      "  No. Observations:          500   Adj. R-squared(proj model):              0.0268  \n",
      "  DoF of residual:         487.0   R-squared(full model):                   0.0682  \n",
      "  Residual std err:       4.9131   Adj. R-squared(full model):              0.0433  \n",
      "  Covariance Type:     nonrobust   F-statistic(proj model):                 8.5757  \n",
      "  Cluster Method:     no_cluster   Prob (F-statistic (proj model)):      1.474e-05  \n",
      "                                   DoF of F-test (proj model):        [3.0, 487.0]  \n",
      "                                   F-statistic(full model):                 2.7357  \n",
      "                                   Prob (F-statistic (full model)):         0.0009  \n",
      "                                   DoF of F-test (full model):           [13, 487]  \n",
      "============================================================================================\n",
      "                       coef nonrobust std err          t      P>|t|     [0.025     0.975]   \n",
      "--------------------------------------------------------------------------------------------\n",
      "  const            -2.78820           0.25266   -11.0353     0.0000    -3.2846    -2.2918   \n",
      "  x_1               1.09551           0.22326     4.9069     0.0000     0.6568     1.5342   \n",
      "  treatment         0.15073           0.80445     0.1874     0.8514    -1.4299     1.7313   \n",
      "  post*treatment    0.77049           1.04675     0.7361     0.4620    -1.2862     2.8272   \n",
      "============================================================================================\n"
     ]
    }
   ],
   "source": [
    "exp_date = 'date_05'\n",
    "df['post'] = (df['time']>=exp_date)*1\n",
    "formula = 'y ~ x_1+treatment+post*treatment|time|0|0'\n",
    "\n",
    "model_fe1 = fixedeffect(data_df = df,\n",
    "                formula = formula,\n",
    "                treatment = ['treatment'],            \n",
    "                exp_date='date_05')\n",
    "result = model_fe1.fit()\n",
    "result.summary()"
   ]
  },
  {
   "cell_type": "code",
   "execution_count": 17,
   "metadata": {},
   "outputs": [
    {
     "name": "stdout",
     "output_type": "stream",
     "text": [
      "dependent variable(s): ['y']\n",
      "independent(exogenous): ['x_1']\n",
      "csid: id\n",
      "tsid: time\n",
      "category variables(fixed effects): ['id', 'time']\n",
      "cluster variables: ['0']\n"
     ]
    },
    {
     "data": {
      "image/png": "[encoded data removed]",
      "text/plain": [
       "<Figure size 720x432 with 1 Axes>"
      ]
     },
     "metadata": {
      "needs_background": "light"
     },
     "output_type": "display_data"
    },
    {
     "name": "stdout",
     "output_type": "stream",
     "text": [
      "                  High Dimensional Fixed Effect Regression Results                  \n",
      "====================================================================================\n",
      "  Dep. Variable:               y   R-squared(proj model):                   0.0502  \n",
      "  No. Observations:          500   Adj. R-squared(proj model):             -0.2216  \n",
      "  DoF of residual:         388.0   R-squared(full model):                   0.0682  \n",
      "  Residual std err:       5.5058   Adj. R-squared(full model):             -0.2008  \n",
      "  Covariance Type:     nonrobust   F-statistic(proj model):                 6.8324  \n",
      "  Cluster Method:     no_cluster   Prob (F-statistic (proj model)):         0.0002  \n",
      "                                   DoF of F-test (proj model):        [3.0, 388.0]  \n",
      "                                   F-statistic(full model):                 0.2528  \n",
      "                                   Prob (F-statistic (full model)):         1.0000  \n",
      "                                   DoF of F-test (full model):          [112, 388]  \n",
      "=======================================================================================================\n",
      "                                  coef nonrobust std err          t      P>|t|     [0.025     0.975]   \n",
      "-------------------------------------------------------------------------------------------------------\n",
      "  const                       -2.78820           0.28307    -9.8499     0.0000    -3.3447    -2.2317   \n",
      "  x_1                          1.09551           0.25013     4.3798     0.0000     0.6037     1.5873   \n",
      "  treatment*post_experiment    0.77049           1.17271     0.6570     0.5116    -1.5352     3.0762   \n",
      "  treatment                    0.15073           0.90125     0.1672     0.8673    -1.6212     1.9227   \n",
      "=======================================================================================================\n"
     ]
    }
   ],
   "source": [
    "formula = 'y ~ x_1|id+time|0|0'\n",
    "\n",
    "model_did = did(data_df = df,\n",
    "                formula = formula,\n",
    "                treatment = ['treatment'],            \n",
    "                exp_date = 'date_05',\n",
    "               figsize = (10,6))\n",
    "result = model_did.fit()\n",
    "result.summary()"
   ]
  },
  {
   "cell_type": "code",
   "execution_count": 18,
   "metadata": {},
   "outputs": [
    {
     "name": "stdout",
     "output_type": "stream",
     "text": [
      "dependent variable(s): ['y']\n",
      "independent(exogenous): ['x_1', 'post*treatment']\n",
      "category variables(fixed effects): ['id', 'time']\n",
      "cluster variables: ['0']\n",
      "                  High Dimensional Fixed Effect Regression Results                  \n",
      "====================================================================================\n",
      "  Dep. Variable:               y   R-squared(proj model):                   0.0631  \n",
      "  No. Observations:          500   Adj. R-squared(proj model):             -0.2018  \n",
      "  DoF of residual:         389.0   R-squared(full model):                   0.2743  \n",
      "  Residual std err:       4.8526   Adj. R-squared(full model):              0.0672  \n",
      "  Covariance Type:     nonrobust   F-statistic(proj model):                13.1028  \n",
      "  Cluster Method:     no_cluster   Prob (F-statistic (proj model)):      3.112e-06  \n",
      "                                   DoF of F-test (proj model):        [2.0, 389.0]  \n",
      "                                   F-statistic(full model):                 1.3212  \n",
      "                                   Prob (F-statistic (full model)):         0.0286  \n",
      "                                   DoF of F-test (full model):          [111, 389]  \n",
      "============================================================================================\n",
      "                       coef nonrobust std err          t      P>|t|     [0.025     0.975]   \n",
      "--------------------------------------------------------------------------------------------\n",
      "  const            -2.74562           0.26617   -10.3153     0.0000    -3.2689    -2.2223   \n",
      "  x_1               1.22535           0.24079     5.0889     0.0000     0.7519     1.6988   \n",
      "  post*treatment    0.78342           1.08649     0.7211     0.4713    -1.3527     2.9195   \n",
      "============================================================================================\n"
     ]
    }
   ],
   "source": [
    "formula = 'y ~ x_1+post*treatment|id+time|0|0'\n",
    "\n",
    "model_fe1 = fixedeffect(data_df = df,\n",
    "                formula = formula,\n",
    "                treatment = ['treatment'],            \n",
    "                exp_date='date_05')\n",
    "result = model_fe1.fit()\n",
    "result.summary()"
   ]
  },
  {
   "cell_type": "code",
   "execution_count": 19,
   "metadata": {
    "scrolled": false
   },
   "outputs": [
    {
     "name": "stdout",
     "output_type": "stream",
     "text": [
      "dependent variable(s): ['y']\n",
      "independent(exogenous): ['x_1']\n",
      "csid: id\n",
      "tsid: time\n",
      "category variables(fixed effects): ['id', 'time']\n",
      "cluster variables: ['0']\n"
     ]
    },
    {
     "name": "stderr",
     "output_type": "stream",
     "text": [
      "/Users/zhouxiaoyu/Desktop/FixedEffectModel/fixedeffect/utils/GenCrossProd.py:57: UserWarning: You are doing DID with individual effect\n",
      "  warnings.warn('You are doing DID with individual effect')\n"
     ]
    },
    {
     "data": {
      "image/png": "[encoded data removed]",
      "text/plain": [
       "<Figure size 720x432 with 1 Axes>"
      ]
     },
     "metadata": {
      "needs_background": "light"
     },
     "output_type": "display_data"
    },
    {
     "name": "stdout",
     "output_type": "stream",
     "text": [
      "                  High Dimensional Fixed Effect Regression Results                  \n",
      "====================================================================================\n",
      "  Dep. Variable:               y   R-squared(proj model):                   0.0631  \n",
      "  No. Observations:          500   Adj. R-squared(proj model):             -0.2018  \n",
      "  DoF of residual:         389.0   R-squared(full model):                   0.2743  \n",
      "  Residual std err:       4.8526   Adj. R-squared(full model):              0.0672  \n",
      "  Covariance Type:     nonrobust   F-statistic(proj model):                13.1028  \n",
      "  Cluster Method:     no_cluster   Prob (F-statistic (proj model)):      3.112e-06  \n",
      "                                   DoF of F-test (proj model):        [2.0, 389.0]  \n",
      "                                   F-statistic(full model):                 1.3212  \n",
      "                                   Prob (F-statistic (full model)):         0.0286  \n",
      "                                   DoF of F-test (full model):          [111, 389]  \n",
      "=======================================================================================================\n",
      "                                  coef nonrobust std err          t      P>|t|     [0.025     0.975]   \n",
      "-------------------------------------------------------------------------------------------------------\n",
      "  const                       -2.74562           0.26617   -10.3153     0.0000    -3.2689    -2.2223   \n",
      "  x_1                          1.22535           0.24079     5.0889     0.0000     0.7519     1.6988   \n",
      "  treatment*post_experiment    0.78342           1.08649     0.7211     0.4713    -1.3527     2.9195   \n",
      "=======================================================================================================\n"
     ]
    }
   ],
   "source": [
    "formula = 'y ~ x_1|id+time|0|0'\n",
    "\n",
    "model_did = did(data_df = df,\n",
    "                formula = formula,\n",
    "                treatment = ['treatment'], \n",
    "                group_effect = 'individual',\n",
    "                exp_date = 'date_05')\n",
    "result = model_did.fit()\n",
    "result.summary()"
   ]
  },
  {
   "cell_type": "code",
   "execution_count": 20,
   "metadata": {},
   "outputs": [
    {
     "name": "stdout",
     "output_type": "stream",
     "text": [
      "dependent variable(s): ['y']\n",
      "independent(exogenous): ['x_1*x_2']\n",
      "csid: id\n",
      "tsid: time\n",
      "category variables(fixed effects): ['id', 'time']\n",
      "cluster variables: ['0']\n"
     ]
    },
    {
     "data": {
      "image/png": "[encoded data removed]",
      "text/plain": [
       "<Figure size 720x432 with 1 Axes>"
      ]
     },
     "metadata": {
      "needs_background": "light"
     },
     "output_type": "display_data"
    },
    {
     "name": "stdout",
     "output_type": "stream",
     "text": [
      "                  High Dimensional Fixed Effect Regression Results                  \n",
      "====================================================================================\n",
      "  Dep. Variable:               y   R-squared(proj model):                   0.0036  \n",
      "  No. Observations:          500   Adj. R-squared(proj model):             -0.2781  \n",
      "  DoF of residual:         389.0   R-squared(full model):                   0.2282  \n",
      "  Residual std err:       5.0043   Adj. R-squared(full model):              0.0080  \n",
      "  Covariance Type:     nonrobust   F-statistic(proj model):                 0.7108  \n",
      "  Cluster Method:     no_cluster   Prob (F-statistic (proj model)):         0.4919  \n",
      "                                   DoF of F-test (proj model):        [2.0, 389.0]  \n",
      "                                   F-statistic(full model):                 1.0337  \n",
      "                                   Prob (F-statistic (full model)):         0.4027  \n",
      "                                   DoF of F-test (full model):          [111, 389]  \n",
      "=======================================================================================================\n",
      "                                  coef nonrobust std err          t      P>|t|     [0.025     0.975]   \n",
      "-------------------------------------------------------------------------------------------------------\n",
      "  const                       -2.77816           0.27476   -10.1111     0.0000    -3.3184    -2.2380   \n",
      "  x_1*x_2                     -0.27191           0.25567    -1.0635     0.2882    -0.7746     0.2307   \n",
      "  treatment*post_experiment    0.55106           1.12094     0.4916     0.6233    -1.6528     2.7549   \n",
      "=======================================================================================================\n"
     ]
    }
   ],
   "source": [
    "formula = 'y ~ x_1*x_2|id+time|0|0'\n",
    "\n",
    "model_did = did(data_df = df,\n",
    "                formula = formula,\n",
    "                treatment = ['treatment'], \n",
    "                group_effect='individual',\n",
    "                exp_date='date_05')\n",
    "result = model_did.fit()\n",
    "result.summary()"
   ]
  },
  {
   "cell_type": "markdown",
   "metadata": {},
   "source": [
    "# fit_multi_model"
   ]
  },
  {
   "cell_type": "code",
   "execution_count": 21,
   "metadata": {},
   "outputs": [
    {
     "name": "stdout",
     "output_type": "stream",
     "text": [
      "multi                                               \n",
      "====================================================\n",
      "const                       5.549   -2.635   -2.778 \n",
      "std err                     2.6406   0.0067   0.2748\n",
      "pvalue                       0.036      0.0  1.7e-21\n",
      "x_1                         6.886    1.220  Nan     \n",
      "std err                     1.8377   0.2106 Nan     \n",
      "pvalue                     0.00021  1.4e-08 Nan     \n",
      "hat_x_2                    -117.8  Nan      Nan     \n",
      "std err                    37.8938 Nan      Nan     \n",
      "pvalue                      0.0020 Nan      Nan     \n",
      "x_1*x_2                   Nan      Nan      -0.2719 \n",
      "std err                   Nan      Nan        0.2557\n",
      "pvalue                    Nan      Nan          0.29\n",
      "treatment*post_experiment Nan      Nan       0.5511 \n",
      "std err                   Nan      Nan        1.1209\n",
      "pvalue                    Nan      Nan          0.62\n",
      "----------------------------------------------------\n"
     ]
    }
   ],
   "source": [
    "\n",
    "from fixedeffect.multi_model import fit_multi_model\n",
    "\n",
    "models = [model_iv2sls, model_fe, model_did]\n",
    "fit_multi_model(models)"
   ]
  },
  {
   "cell_type": "code",
   "execution_count": null,
   "metadata": {},
   "outputs": [],
   "source": []
  },
  {
   "cell_type": "code",
   "execution_count": null,
   "metadata": {},
   "outputs": [],
   "source": []
  },
  {
   "cell_type": "code",
   "execution_count": null,
   "metadata": {},
   "outputs": [],
   "source": []
  },
  {
   "cell_type": "code",
   "execution_count": null,
   "metadata": {},
   "outputs": [],
   "source": []
  },
  {
   "cell_type": "code",
   "execution_count": null,
   "metadata": {},
   "outputs": [],
   "source": []
  },
  {
   "cell_type": "code",
   "execution_count": null,
   "metadata": {},
   "outputs": [],
   "source": []
  },
  {
   "cell_type": "code",
   "execution_count": null,
   "metadata": {},
   "outputs": [],
   "source": []
  },
  {
   "cell_type": "code",
   "execution_count": null,
   "metadata": {},
   "outputs": [],
   "source": []
  },
  {
   "cell_type": "code",
   "execution_count": null,
   "metadata": {},
   "outputs": [],
   "source": []
  },
  {
   "cell_type": "code",
   "execution_count": null,
   "metadata": {},
   "outputs": [],
   "source": []
  },
  {
   "cell_type": "code",
   "execution_count": null,
   "metadata": {},
   "outputs": [],
   "source": []
  },
  {
   "cell_type": "code",
   "execution_count": null,
   "metadata": {},
   "outputs": [],
   "source": []
  },
  {
   "cell_type": "code",
   "execution_count": null,
   "metadata": {},
   "outputs": [],
   "source": []
  },
  {
   "cell_type": "code",
   "execution_count": null,
   "metadata": {},
   "outputs": [],
   "source": []
  },
  {
   "cell_type": "code",
   "execution_count": null,
   "metadata": {},
   "outputs": [],
   "source": []
  },
  {
   "cell_type": "code",
   "execution_count": null,
   "metadata": {},
   "outputs": [],
   "source": []
  },
  {
   "cell_type": "code",
   "execution_count": null,
   "metadata": {},
   "outputs": [],
   "source": []
  },
  {
   "cell_type": "code",
   "execution_count": null,
   "metadata": {},
   "outputs": [],
   "source": []
  },
  {
   "cell_type": "code",
   "execution_count": null,
   "metadata": {},
   "outputs": [],
   "source": []
  },
  {
   "cell_type": "code",
   "execution_count": null,
   "metadata": {},
   "outputs": [],
   "source": []
  },
  {
   "cell_type": "code",
   "execution_count": null,
   "metadata": {},
   "outputs": [],
   "source": []
  },
  {
   "cell_type": "code",
   "execution_count": null,
   "metadata": {},
   "outputs": [],
   "source": []
  },
  {
   "cell_type": "code",
   "execution_count": null,
   "metadata": {},
   "outputs": [],
   "source": []
  }
 ],
 "metadata": {
  "kernelspec": {
   "display_name": "Python 3",
   "language": "python",
   "name": "python3"
  },
  "language_info": {
   "codemirror_mode": {
    "name": "ipython",
    "version": 3
   },
   "file_extension": ".py",
   "mimetype": "text/x-python",
   "name": "python",
   "nbconvert_exporter": "python",
   "pygments_lexer": "ipython3",
   "version": "3.8.2"
  }
 },
 "nbformat": 4,
 "nbformat_minor": 4
}
