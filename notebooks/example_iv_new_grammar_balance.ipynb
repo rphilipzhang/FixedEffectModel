{
 "cells": [
  {
   "cell_type": "markdown",
   "metadata": {},
   "source": [
    "\n",
    "# generate seudo data"
   ]
  },
  {
   "cell_type": "code",
   "execution_count": 1,
   "metadata": {},
   "outputs": [],
   "source": [
    "# import packages\n",
    "\n",
    "import numpy as np\n",
    "import pandas as pd\n",
    "\n",
    "from fixedeffect.iv import iv2sls, ivgmm,ivtest\n",
    "from fixedeffect.fe import fixedeffect, did,getfe\n",
    "from fixedeffect.utils.panel_dgp import gen_data \n",
    "\n",
    "N = 100\n",
    "T = 10\n",
    "beta = [-3,1,2,3,4]\n",
    "ate = 1\n",
    "exp_date = 5\n",
    "df = gen_data(N, T, beta, ate, exp_date)"
   ]
  },
  {
   "cell_type": "markdown",
   "metadata": {},
   "source": [
    "# iv\n",
    "## iv2sls"
   ]
  },
  {
   "cell_type": "code",
   "execution_count": 2,
   "metadata": {},
   "outputs": [
    {
     "name": "stdout",
     "output_type": "stream",
     "text": [
      "dependent variable(s): ['y']\n",
      "independent(exogenous): ['x_1']\n",
      "category variables(fixed effects): ['id', 'time']\n",
      "cluster variables: ['0']\n",
      "endogenous variables: ['x_2']\n",
      "instruments: ['x_3', 'x_4']\n",
      "            High Dimensional Fixed Effect Regression Results           \n",
      "=======================================================================\n",
      "  Dep. Variable:               y   R-squared:               -286.9643  \n",
      "  No. Observations:         1000   Adj. R-squared:          -287.5419  \n",
      "  DoF of residual:         889.0   F-statistic:              985.4441  \n",
      "  Residual std err:      94.1909   Prob (F-statistic):     2.752e-226  \n",
      "  Covariance Type:     nonrobust   DoF of F-test:        [2.0, 889.0]  \n",
      "  Cluster Method:     no_cluster                                       \n",
      "========================================================================================\n",
      "                   coef nonrobust std err          t      P>|t|     [0.025     0.975]   \n",
      "----------------------------------------------------------------------------------------\n",
      "  const        -1.40442           0.10207   -13.7587     0.0000    -1.6048    -1.2041   \n",
      "  x_1          -1.52247           0.12027   -12.6589     0.0000    -1.7585    -1.2864   \n",
      "  hat_x_2      97.95844           2.25688    43.4043     0.0000    93.5290   102.3879   \n",
      "========================================================================================\n",
      "=============================================\n",
      "             First-Stage F-stat      P > F   \n",
      "---------------------------------------------\n",
      "  x_2                    0.9490     0.4163   \n",
      "=============================================\n"
     ]
    },
    {
     "name": "stderr",
     "output_type": "stream",
     "text": [
      "/Users/zhouxiaoyu/desktop/FixedEffectModel/fixedeffect/iv/iv.py:46: UserWarning: \"iv2sls\" will no longer be supported beyond version 0.0.5, please use \"ivgmm\" instead\n",
      "  warnings.warn('\"iv2sls\" will no longer be supported beyond version 0.0.5, please use \"ivgmm\" instead')\n"
     ]
    }
   ],
   "source": [
    "formula = 'y ~ x_1|id+time|0|(x_2~x_3+x_4)'\n",
    "\n",
    "model_iv2sls = iv2sls(data_df = df,\n",
    "                      formula = formula)\n",
    "result = model_iv2sls.fit()\n",
    "result.summary()\n",
    "\n"
   ]
  },
  {
   "cell_type": "code",
   "execution_count": null,
   "metadata": {},
   "outputs": [],
   "source": []
  },
  {
   "cell_type": "code",
   "execution_count": 3,
   "metadata": {},
   "outputs": [
    {
     "name": "stdout",
     "output_type": "stream",
     "text": [
      "            High Dimensional Fixed Effect Regression Results           \n",
      "=======================================================================\n",
      "  Dep. Variable:               y   R-squared:               -286.9643  \n",
      "  No. Observations:         1000   Adj. R-squared:          -287.5419  \n",
      "  DoF of residual:         889.0   F-statistic:              985.4441  \n",
      "  Residual std err:      94.1909   Prob (F-statistic):     2.752e-226  \n",
      "  Covariance Type:     nonrobust   DoF of F-test:        [2.0, 889.0]  \n",
      "  Cluster Method:     no_cluster                                       \n",
      "========================================================================================\n",
      "                   coef nonrobust std err          t      P>|t|     [0.025     0.975]   \n",
      "----------------------------------------------------------------------------------------\n",
      "  const        -1.40442           0.10207   -13.7587     0.0000    -1.6048    -1.2041   \n",
      "  x_1          -1.52247           0.12027   -12.6589     0.0000    -1.7585    -1.2864   \n",
      "  hat_x_2      97.95844           2.25688    43.4043     0.0000    93.5290   102.3879   \n",
      "========================================================================================\n",
      "=============================================\n",
      "             First-Stage F-stat      P > F   \n",
      "---------------------------------------------\n",
      "  x_2                    0.9490     0.4163   \n",
      "=============================================\n"
     ]
    }
   ],
   "source": [
    "exog_x = ['x_1']\n",
    "endog_x = ['x_2']\n",
    "iv = ['x_3','x_4']\n",
    "y = ['y']\n",
    "\n",
    "model_iv2sls = iv2sls(data_df = df,\n",
    "                      dependent = y,\n",
    "                      exog_x = exog_x,\n",
    "                      endog_x = endog_x,\n",
    "                      category = ['id','time'],\n",
    "                      iv = iv)\n",
    "\n",
    "result = model_iv2sls.fit()\n",
    "result.summary()"
   ]
  },
  {
   "cell_type": "markdown",
   "metadata": {},
   "source": [
    "## ivgmm\n",
    "### one-step \n",
    "#### non-robust standard error"
   ]
  },
  {
   "cell_type": "code",
   "execution_count": 5,
   "metadata": {},
   "outputs": [
    {
     "name": "stdout",
     "output_type": "stream",
     "text": [
      "           High Dimensional Fixed Effect Regression Results          \n",
      "=====================================================================\n",
      "  Dep. Variable:               y   R-squared:             -286.9643  \n",
      "  No. Observations:         1000   Adj. R-squared:        -286.6763  \n",
      "  DoF of residual:           889   F-statistic:              1.0638  \n",
      "  Residual std err:     100.5005   Prob (F-statistic):       0.3456  \n",
      "  Covariance Type:     nonrobust   DoF of F-test:          [2, 889]  \n",
      "  Cluster Method:     no_cluster                                     \n",
      "========================================================================================\n",
      "                   coef nonrobust std err          t      P>|t|     [0.025     0.975]   \n",
      "----------------------------------------------------------------------------------------\n",
      "  const        -1.40442           3.10678    -0.4520     0.6513    -7.5019     4.6931   \n",
      "  x_1          -1.52247           3.66055    -0.4159     0.6776    -8.7068     5.6619   \n",
      "  x_2          97.95844          68.69139     1.4261     0.1542   -36.8578   232.7746   \n",
      "========================================================================================\n",
      "=============================================\n",
      "             First-Stage F-stat      P > F   \n",
      "---------------------------------------------\n",
      "  x_2                    0.9490     0.4163   \n",
      "=============================================\n"
     ]
    }
   ],
   "source": [
    "exog_x = ['x_1']\n",
    "endog_x = ['x_2']\n",
    "iv = ['x_3','x_4']\n",
    "y = ['y']\n",
    "\n",
    "model_ivgmm = ivgmm(data_df = df,\n",
    "                      dependent = y,\n",
    "                      exog_x = exog_x,\n",
    "                      endog_x = endog_x,\n",
    "                      category = ['id','time'],\n",
    "                      iv = iv)\n",
    "\n",
    "result = model_ivgmm.fit()\n",
    "result.summary()"
   ]
  },
  {
   "cell_type": "markdown",
   "metadata": {},
   "source": [
    "#### robust standard error"
   ]
  },
  {
   "cell_type": "code",
   "execution_count": 7,
   "metadata": {},
   "outputs": [
    {
     "name": "stdout",
     "output_type": "stream",
     "text": [
      "                 High Dimensional Fixed Effect Regression Results                \n",
      "=================================================================================\n",
      "  Dep. Variable:                           y   R-squared:             -286.9643  \n",
      "  No. Observations:                     1000   Adj. R-squared:        -286.6763  \n",
      "  DoF of residual:                       889   F-statistic:              1.2703  \n",
      "  Residual std err:                 100.5005   Prob (F-statistic):       0.2813  \n",
      "  Covariance Type:    Heteroskedastic-Robust   DoF of F-test:          [2, 889]  \n",
      "  Cluster Method:                 no_cluster                                     \n",
      "=================================================================================\n",
      "                   coef    std err          t      P>|t|     [0.025     0.975]   \n",
      "---------------------------------------------------------------------------------\n",
      "  const        -1.40442    2.94966    -0.4761     0.6341    -7.1935     4.3847   \n",
      "  x_1          -1.52247    3.52664    -0.4317     0.6661    -8.4440     5.3990   \n",
      "  x_2          97.95844   62.24064     1.5739     0.1159   -24.1973   220.1142   \n",
      "=================================================================================\n",
      "=============================================\n",
      "             First-Stage F-stat      P > F   \n",
      "---------------------------------------------\n",
      "  x_2                    0.9490     0.4163   \n",
      "=============================================\n"
     ]
    }
   ],
   "source": [
    "model_ivgmm = ivgmm(data_df = df,\n",
    "                    dependent = y,\n",
    "                    exog_x = exog_x,\n",
    "                    endog_x = endog_x,\n",
    "                    category = ['id','time'],\n",
    "                    robust=True,\n",
    "                    iv = iv)\n",
    "\n",
    "result = model_ivgmm.fit()\n",
    "result.summary()"
   ]
  },
  {
   "cell_type": "markdown",
   "metadata": {},
   "source": [
    "#### clustered standard error"
   ]
  },
  {
   "cell_type": "code",
   "execution_count": 8,
   "metadata": {},
   "outputs": [
    {
     "name": "stdout",
     "output_type": "stream",
     "text": [
      "           High Dimensional Fixed Effect Regression Results          \n",
      "=====================================================================\n",
      "  Dep. Variable:               y   R-squared:             -286.9643  \n",
      "  No. Observations:         1000   Adj. R-squared:        -286.6763  \n",
      "  DoF of residual:           889   F-statistic:              1.0632  \n",
      "  Residual std err:     100.5005   Prob (F-statistic):       0.3458  \n",
      "  Covariance Type:     clustered   DoF of F-test:          [2, 889]  \n",
      "  Cluster Method:        one-way                                     \n",
      "======================================================================================\n",
      "                   coef cluster std err          t      P>|t|     [0.025     0.975]   \n",
      "--------------------------------------------------------------------------------------\n",
      "  const        -1.40442         0.88012    -1.5957     0.1109    -3.1318     0.3229   \n",
      "  x_1          -1.52247         3.70161    -0.4113     0.6810    -8.7874     5.7424   \n",
      "  x_2          97.95844        67.56024     1.4499     0.1474   -34.6377   230.5546   \n",
      "======================================================================================\n",
      "=============================================\n",
      "             First-Stage F-stat      P > F   \n",
      "---------------------------------------------\n",
      "  x_2                    0.9490     0.4163   \n",
      "=============================================\n"
     ]
    }
   ],
   "source": [
    "model_ivgmm = ivgmm(data_df = df,\n",
    "                    dependent = y,\n",
    "                    exog_x = exog_x,\n",
    "                    endog_x = endog_x,\n",
    "                    category = ['id','time'],\n",
    "                    cluster=['id'],\n",
    "                    iv = iv)\n",
    "\n",
    "result = model_ivgmm.fit()\n",
    "result.summary()"
   ]
  },
  {
   "cell_type": "markdown",
   "metadata": {},
   "source": [
    "### two-step \n",
    "#### non-robust standard error"
   ]
  },
  {
   "cell_type": "code",
   "execution_count": 9,
   "metadata": {},
   "outputs": [
    {
     "name": "stdout",
     "output_type": "stream",
     "text": [
      "           High Dimensional Fixed Effect Regression Results          \n",
      "=====================================================================\n",
      "  Dep. Variable:               y   R-squared:             -264.0555  \n",
      "  No. Observations:         1000   Adj. R-squared:        -263.7904  \n",
      "  DoF of residual:           889   F-statistic:              1.1823  \n",
      "  Residual std err:      96.4200   Prob (F-statistic):       0.3070  \n",
      "  Covariance Type:     nonrobust   DoF of F-test:          [2, 889]  \n",
      "  Cluster Method:     no_cluster                                     \n",
      "========================================================================================\n",
      "                   coef nonrobust std err          t      P>|t|     [0.025     0.975]   \n",
      "----------------------------------------------------------------------------------------\n",
      "  const        -1.54347           2.94381    -0.5243     0.6002    -7.3211     4.2341   \n",
      "  x_1          -1.42011           3.52399    -0.4030     0.6871    -8.3364     5.4962   \n",
      "  x_2          94.05695          62.02204     1.5165     0.1297   -27.6697   215.7836   \n",
      "========================================================================================\n",
      "=============================================\n",
      "             First-Stage F-stat      P > F   \n",
      "---------------------------------------------\n",
      "  x_2                    0.9490     0.4163   \n",
      "=============================================\n"
     ]
    }
   ],
   "source": [
    "model_ivgmm = ivgmm(data_df = df,\n",
    "                      dependent = y,\n",
    "                      exog_x = exog_x,\n",
    "                      endog_x = endog_x,\n",
    "                      category = ['id','time'],\n",
    "                      iv = iv,\n",
    "                   gmm2 = True)\n",
    "\n",
    "result = model_ivgmm.fit()\n",
    "result.summary()"
   ]
  },
  {
   "cell_type": "markdown",
   "metadata": {},
   "source": [
    "#### robust standard error"
   ]
  },
  {
   "cell_type": "code",
   "execution_count": 11,
   "metadata": {},
   "outputs": [
    {
     "name": "stdout",
     "output_type": "stream",
     "text": [
      "                 High Dimensional Fixed Effect Regression Results                \n",
      "=================================================================================\n",
      "  Dep. Variable:                           y   R-squared:             -264.0555  \n",
      "  No. Observations:                     1000   Adj. R-squared:        -263.7904  \n",
      "  DoF of residual:                       889   F-statistic:              1.2849  \n",
      "  Residual std err:                  96.4200   Prob (F-statistic):       0.2772  \n",
      "  Covariance Type:    Heteroskedastic-Robust   DoF of F-test:          [2, 889]  \n",
      "  Cluster Method:                 no_cluster                                     \n",
      "=================================================================================\n",
      "                   coef    std err          t      P>|t|     [0.025     0.975]   \n",
      "---------------------------------------------------------------------------------\n",
      "  const        -1.54347    2.82407    -0.5465     0.5848    -7.0861     3.9992   \n",
      "  x_1          -1.42011    3.38007    -0.4201     0.6745    -8.0540     5.2137   \n",
      "  x_2          94.05695   59.49238     1.5810     0.1142   -22.7049   210.8188   \n",
      "=================================================================================\n",
      "=============================================\n",
      "             First-Stage F-stat      P > F   \n",
      "---------------------------------------------\n",
      "  x_2                    0.9490     0.4163   \n",
      "=============================================\n"
     ]
    }
   ],
   "source": [
    "model_ivgmm = ivgmm(data_df = df,\n",
    "                      dependent = y,\n",
    "                      exog_x = exog_x,\n",
    "                      endog_x = endog_x,\n",
    "                      category = ['id','time'],\n",
    "                      iv = iv,\n",
    "                    robust=True,\n",
    "                    gmm2 = True)\n",
    "\n",
    "result = model_ivgmm.fit()\n",
    "result.summary()"
   ]
  },
  {
   "cell_type": "markdown",
   "metadata": {},
   "source": [
    "#### clustered standard error"
   ]
  },
  {
   "cell_type": "code",
   "execution_count": 12,
   "metadata": {},
   "outputs": [
    {
     "name": "stdout",
     "output_type": "stream",
     "text": [
      "           High Dimensional Fixed Effect Regression Results          \n",
      "=====================================================================\n",
      "  Dep. Variable:               y   R-squared:            -1030.8066  \n",
      "  No. Observations:         1000   Adj. R-squared:       -1029.7748  \n",
      "  DoF of residual:           889   F-statistic:              0.3391  \n",
      "  Residual std err:     190.2383   Prob (F-statistic):       0.7125  \n",
      "  Covariance Type:     clustered   DoF of F-test:          [2, 889]  \n",
      "  Cluster Method:        one-way                                     \n",
      "======================================================================================\n",
      "                   coef cluster std err          t      P>|t|     [0.025     0.975]   \n",
      "--------------------------------------------------------------------------------------\n",
      "  const        74.21769       183.48870     0.4045     0.6860  -285.9039   434.3392   \n",
      "  x_1          -1.68719         6.30915    -0.2674     0.7892   -14.0698    10.6954   \n",
      "  x_2         164.72446       200.28757     0.8224     0.4110  -228.3671   557.8161   \n",
      "======================================================================================\n",
      "=============================================\n",
      "             First-Stage F-stat      P > F   \n",
      "---------------------------------------------\n",
      "  x_2                    0.9490     0.4163   \n",
      "=============================================\n"
     ]
    }
   ],
   "source": [
    "model_ivgmm = ivgmm(data_df = df,\n",
    "                      dependent = y,\n",
    "                      exog_x = exog_x,\n",
    "                      endog_x = endog_x,\n",
    "                      category = ['id','time'],\n",
    "                      iv = iv,\n",
    "                    cluster=['id'],\n",
    "                    gmm2 = True)\n",
    "\n",
    "result = model_ivgmm.fit()\n",
    "result.summary()"
   ]
  },
  {
   "cell_type": "code",
   "execution_count": null,
   "metadata": {},
   "outputs": [],
   "source": []
  },
  {
   "cell_type": "markdown",
   "metadata": {},
   "source": [
    "## ivtest"
   ]
  },
  {
   "cell_type": "code",
   "execution_count": 6,
   "metadata": {},
   "outputs": [
    {
     "name": "stdout",
     "output_type": "stream",
     "text": [
      "Weak IV test with critical values based on 2SLS size\n",
      "================================================\n",
      "  Cragg-Donald Statistics:            1.095332  \n",
      "  number of instrumental variables:          2  \n",
      "  number of endogenous variables:            1  \n",
      "=============================================================================\n",
      "                                      5%        10%        20%        30%    \n",
      "-----------------------------------------------------------------------------\n",
      "2SLS Size of nominal 5% Wald test    19.9300    11.5900     8.7500     7.2500\n",
      "-----------------------------------------------------------------------------\n",
      "H0: Instruments are weak\n",
      "\n",
      "     Over identification test - nonrobust     \n",
      "==============================================\n",
      "                    test statistics  p values \n",
      "----------------------------------------------\n",
      "Sargan Statistics:           0.5598     0.9056\n",
      "Basmann Statistics:          0.1860     0.9798\n",
      "----------------------------------------------\n",
      "\n",
      "             Tests of endogeneity            \n",
      "=============================================\n",
      "                   test statistics  p values \n",
      "---------------------------------------------\n",
      "Durbin Statistics:        765.3095          0\n",
      "---------------------------------------------\n",
      "H0: variables are exogenous\n"
     ]
    }
   ],
   "source": [
    "from fixedeffect.iv import ivtest\n",
    "\n",
    "ivtest(result)"
   ]
  },
  {
   "cell_type": "markdown",
   "metadata": {},
   "source": [
    "# fixedeffect"
   ]
  },
  {
   "cell_type": "code",
   "execution_count": 7,
   "metadata": {},
   "outputs": [
    {
     "name": "stdout",
     "output_type": "stream",
     "text": [
      "category variable(s) is_nested in cluster variables: True\n",
      "                 High Dimensional Fixed Effect Regression Results                 \n",
      "==================================================================================\n",
      "  Dep. Variable:               y   R-squared(proj model):                 0.0304  \n",
      "  No. Observations:         1000   Adj. R-squared(proj model):           -0.0883  \n",
      "  DoF of residual:         890.0   R-squared(full model):                 0.1939  \n",
      "  Residual std err:       5.4625   Adj. R-squared(full model):            0.0943  \n",
      "  Covariance Type:     clustered   F-statistic(proj model):              22.8746  \n",
      "  Cluster Method:            cgm   Prob (F-statistic (proj model)):       0.0010  \n",
      "                                   DoF of F-test (proj model):          [1.0, 9]  \n",
      "                                   F-statistic(full model):               1.9440  \n",
      "                                   Prob (F-statistic (full model)):    1.702e-07  \n",
      "                                   DoF of F-test (full model):        [110, 890]  \n",
      "======================================================================================\n",
      "                   coef cluster std err          t      P>|t|     [0.025     0.975]   \n",
      "--------------------------------------------------------------------------------------\n",
      "  const        -2.66944         0.00374  -713.9505     0.0000    -2.6768    -2.6621   \n",
      "  x_1           0.98380         0.20570     4.7827     0.0000     0.5801     1.3875   \n",
      "======================================================================================\n"
     ]
    },
    {
     "name": "stderr",
     "output_type": "stream",
     "text": [
      "/Users/zhouxiaoyu/Desktop/FixedEffectModel/fixedeffect/utils/ClusterErr.py:140: UserWarning: Negative eigenvalues set to zero in multi-way clustered variance matrix.\n",
      "  warnings.warn('Negative eigenvalues set to zero in multi-way clustered variance matrix.')\n"
     ]
    }
   ],
   "source": [
    "exog_x = ['x_1']\n",
    "y = ['y']\n",
    "category = ['id','time']\n",
    "cluster = ['id','time']\n",
    "\n",
    "\n",
    "model_fe = fixedeffect(data_df = df,\n",
    "                      dependent = y,\n",
    "                      exog_x = exog_x,\n",
    "                      category = category,\n",
    "                      cluster = cluster)\n",
    "\n",
    "result = model_fe.fit()\n",
    "result.summary()"
   ]
  },
  {
   "cell_type": "code",
   "execution_count": 8,
   "metadata": {},
   "outputs": [
    {
     "data": {
      "text/html": [
       "<div>\n",
       "<style scoped>\n",
       "    .dataframe tbody tr th:only-of-type {\n",
       "        vertical-align: middle;\n",
       "    }\n",
       "\n",
       "    .dataframe tbody tr th {\n",
       "        vertical-align: top;\n",
       "    }\n",
       "\n",
       "    .dataframe thead th {\n",
       "        text-align: right;\n",
       "    }\n",
       "</style>\n",
       "<table border=\"1\" class=\"dataframe\">\n",
       "  <thead>\n",
       "    <tr style=\"text-align: right;\">\n",
       "      <th></th>\n",
       "      <th>dummy_name</th>\n",
       "      <th>effect</th>\n",
       "      <th>s.e</th>\n",
       "      <th>t-value</th>\n",
       "      <th>P&gt;|t|</th>\n",
       "    </tr>\n",
       "  </thead>\n",
       "  <tbody>\n",
       "    <tr>\n",
       "      <th>0</th>\n",
       "      <td>id1.0</td>\n",
       "      <td>-0.807139</td>\n",
       "      <td>1.729140</td>\n",
       "      <td>-0.466786</td>\n",
       "      <td>0.640767</td>\n",
       "    </tr>\n",
       "    <tr>\n",
       "      <th>1</th>\n",
       "      <td>id2.0</td>\n",
       "      <td>-3.769512</td>\n",
       "      <td>1.728462</td>\n",
       "      <td>-2.180848</td>\n",
       "      <td>0.029456</td>\n",
       "    </tr>\n",
       "    <tr>\n",
       "      <th>2</th>\n",
       "      <td>id3.0</td>\n",
       "      <td>-0.089476</td>\n",
       "      <td>1.726479</td>\n",
       "      <td>-0.051826</td>\n",
       "      <td>0.958679</td>\n",
       "    </tr>\n",
       "    <tr>\n",
       "      <th>3</th>\n",
       "      <td>id4.0</td>\n",
       "      <td>-2.257162</td>\n",
       "      <td>1.727540</td>\n",
       "      <td>-1.306576</td>\n",
       "      <td>0.191694</td>\n",
       "    </tr>\n",
       "    <tr>\n",
       "      <th>4</th>\n",
       "      <td>id5.0</td>\n",
       "      <td>0.069360</td>\n",
       "      <td>1.726426</td>\n",
       "      <td>0.040175</td>\n",
       "      <td>0.967962</td>\n",
       "    </tr>\n",
       "    <tr>\n",
       "      <th>...</th>\n",
       "      <td>...</td>\n",
       "      <td>...</td>\n",
       "      <td>...</td>\n",
       "      <td>...</td>\n",
       "      <td>...</td>\n",
       "    </tr>\n",
       "    <tr>\n",
       "      <th>105</th>\n",
       "      <td>time6.0</td>\n",
       "      <td>2.493543</td>\n",
       "      <td>0.546008</td>\n",
       "      <td>4.566865</td>\n",
       "      <td>0.000006</td>\n",
       "    </tr>\n",
       "    <tr>\n",
       "      <th>106</th>\n",
       "      <td>time7.0</td>\n",
       "      <td>0.425697</td>\n",
       "      <td>0.546023</td>\n",
       "      <td>0.779631</td>\n",
       "      <td>0.435815</td>\n",
       "    </tr>\n",
       "    <tr>\n",
       "      <th>107</th>\n",
       "      <td>time8.0</td>\n",
       "      <td>0.237192</td>\n",
       "      <td>0.546026</td>\n",
       "      <td>0.434396</td>\n",
       "      <td>0.664106</td>\n",
       "    </tr>\n",
       "    <tr>\n",
       "      <th>108</th>\n",
       "      <td>time9.0</td>\n",
       "      <td>-1.157661</td>\n",
       "      <td>0.546557</td>\n",
       "      <td>-2.118095</td>\n",
       "      <td>0.034444</td>\n",
       "    </tr>\n",
       "    <tr>\n",
       "      <th>109</th>\n",
       "      <td>time10.0</td>\n",
       "      <td>-0.214294</td>\n",
       "      <td>0.545943</td>\n",
       "      <td>-0.392521</td>\n",
       "      <td>0.694767</td>\n",
       "    </tr>\n",
       "  </tbody>\n",
       "</table>\n",
       "<p>110 rows × 5 columns</p>\n",
       "</div>"
      ],
      "text/plain": [
       "    dummy_name    effect       s.e   t-value     P>|t|\n",
       "0        id1.0 -0.807139  1.729140 -0.466786  0.640767\n",
       "1        id2.0 -3.769512  1.728462 -2.180848  0.029456\n",
       "2        id3.0 -0.089476  1.726479 -0.051826  0.958679\n",
       "3        id4.0 -2.257162  1.727540 -1.306576  0.191694\n",
       "4        id5.0  0.069360  1.726426  0.040175  0.967962\n",
       "..         ...       ...       ...       ...       ...\n",
       "105    time6.0  2.493543  0.546008  4.566865  0.000006\n",
       "106    time7.0  0.425697  0.546023  0.779631  0.435815\n",
       "107    time8.0  0.237192  0.546026  0.434396  0.664106\n",
       "108    time9.0 -1.157661  0.546557 -2.118095  0.034444\n",
       "109   time10.0 -0.214294  0.545943 -0.392521  0.694767\n",
       "\n",
       "[110 rows x 5 columns]"
      ]
     },
     "execution_count": 8,
     "metadata": {},
     "output_type": "execute_result"
    }
   ],
   "source": [
    "getfe(result)"
   ]
  },
  {
   "cell_type": "code",
   "execution_count": 9,
   "metadata": {},
   "outputs": [
    {
     "name": "stdout",
     "output_type": "stream",
     "text": [
      "                 High Dimensional Fixed Effect Regression Results                 \n",
      "==================================================================================\n",
      "  Dep. Variable:               y   R-squared(proj model):                 0.0304  \n",
      "  No. Observations:         1000   Adj. R-squared(proj model):           -0.0883  \n",
      "  DoF of residual:         890.0   R-squared(full model):                 0.1939  \n",
      "  Residual std err:       5.4625   Adj. R-squared(full model):            0.0943  \n",
      "  Covariance Type:     clustered   F-statistic(proj model):              22.8746  \n",
      "  Cluster Method:            cgm   Prob (F-statistic (proj model)):       0.0010  \n",
      "                                   DoF of F-test (proj model):          [1.0, 9]  \n",
      "                                   F-statistic(full model):               1.9440  \n",
      "                                   Prob (F-statistic (full model)):    1.702e-07  \n",
      "                                   DoF of F-test (full model):        [110, 890]  \n",
      "======================================================================================\n",
      "                   coef cluster std err          t      P>|t|     [0.025     0.975]   \n",
      "--------------------------------------------------------------------------------------\n",
      "  const        -2.66944         0.00374  -713.9505     0.0000    -2.6768    -2.6621   \n",
      "  x_1           0.98380         0.20570     4.7827     0.0000     0.5801     1.3875   \n",
      "======================================================================================\n"
     ]
    },
    {
     "name": "stderr",
     "output_type": "stream",
     "text": [
      "/Users/zhouxiaoyu/Desktop/FixedEffectModel/fixedeffect/utils/ClusterErr.py:140: UserWarning: Negative eigenvalues set to zero in multi-way clustered variance matrix.\n",
      "  warnings.warn('Negative eigenvalues set to zero in multi-way clustered variance matrix.')\n"
     ]
    }
   ],
   "source": [
    "formula = 'y ~ x_1|id+time|id+time|0'\n",
    "\n",
    "model_fe = fixedeffect(data_df = df,\n",
    "                       formula = formula,\n",
    "                       no_print=True)\n",
    "result = model_fe.fit()\n",
    "result.summary()"
   ]
  },
  {
   "cell_type": "markdown",
   "metadata": {},
   "source": [
    "# DID"
   ]
  },
  {
   "cell_type": "code",
   "execution_count": 2,
   "metadata": {},
   "outputs": [
    {
     "ename": "NameError",
     "evalue": "name 'did' is not defined",
     "output_type": "error",
     "traceback": [
      "\u001b[0;31m---------------------------------------------------------------------------\u001b[0m",
      "\u001b[0;31mNameError\u001b[0m                                 Traceback (most recent call last)",
      "\u001b[0;32m<ipython-input-2-dfd408c7341f>\u001b[0m in \u001b[0;36m<module>\u001b[0;34m\u001b[0m\n\u001b[1;32m      1\u001b[0m \u001b[0mformula\u001b[0m \u001b[0;34m=\u001b[0m \u001b[0;34m'y ~ 0|0|0|0'\u001b[0m\u001b[0;34m\u001b[0m\u001b[0;34m\u001b[0m\u001b[0m\n\u001b[1;32m      2\u001b[0m \u001b[0;34m\u001b[0m\u001b[0m\n\u001b[0;32m----> 3\u001b[0;31m model_did = did(data_df = df,\n\u001b[0m\u001b[1;32m      4\u001b[0m                 \u001b[0mformula\u001b[0m \u001b[0;34m=\u001b[0m \u001b[0mformula\u001b[0m\u001b[0;34m,\u001b[0m\u001b[0;34m\u001b[0m\u001b[0;34m\u001b[0m\u001b[0m\n\u001b[1;32m      5\u001b[0m                 \u001b[0mtreatment\u001b[0m \u001b[0;34m=\u001b[0m \u001b[0;34m[\u001b[0m\u001b[0;34m'treatment'\u001b[0m\u001b[0;34m]\u001b[0m\u001b[0;34m,\u001b[0m\u001b[0;34m\u001b[0m\u001b[0;34m\u001b[0m\u001b[0m\n",
      "\u001b[0;31mNameError\u001b[0m: name 'did' is not defined"
     ]
    }
   ],
   "source": [
    "formula = 'y ~ 0|0|0|0'\n",
    "\n",
    "model_did = did(data_df = df,\n",
    "                formula = formula,\n",
    "                treatment = ['treatment'],\n",
    "                csid = ['id'],\n",
    "                tsid = ['time'],\n",
    "                exp_date=2)\n",
    "result = model_did.fit()\n",
    "result.summary()"
   ]
  },
  {
   "cell_type": "markdown",
   "metadata": {},
   "source": [
    "### did is equivalent to fixed effect model\n",
    "In did, if set group_effect='treatment' equals doing following fix effect:\n",
    "    $y_{it} = \\beta_0 + \\beta_1 T_i + \\beta_2 T_i*post_t + date_t + e_{it}$\n",
    "    \n",
    "did设置group_effect='individual'等同于做了如下fix effect:\n",
    "In did, if set group_effect='treatment' equals doing following fix effect:\n",
    "    $y_{it} = \\beta_0 + \\beta_2 T_i*post_t + user_i+ date_t + e_{it}$    "
   ]
  },
  {
   "cell_type": "code",
   "execution_count": 11,
   "metadata": {},
   "outputs": [],
   "source": [
    "exp_date=2\n",
    "df['post'] = (df['time']>=exp_date)*1"
   ]
  },
  {
   "cell_type": "code",
   "execution_count": 12,
   "metadata": {},
   "outputs": [
    {
     "name": "stdout",
     "output_type": "stream",
     "text": [
      "dependent variable(s): ['y']\n",
      "independent(exogenous): ['x_1', 'treatment', 'post*treatment']\n",
      "category variables(fixed effects): ['time']\n",
      "cluster variables: ['0']\n",
      "                  High Dimensional Fixed Effect Regression Results                  \n",
      "====================================================================================\n",
      "  Dep. Variable:               y   R-squared(proj model):                   0.0307  \n",
      "  No. Observations:         1000   Adj. R-squared(proj model):              0.0189  \n",
      "  DoF of residual:         987.0   R-squared(full model):                   0.0905  \n",
      "  Residual std err:       5.5095   Adj. R-squared(full model):              0.0785  \n",
      "  Covariance Type:     nonrobust   F-statistic(proj model):                10.4301  \n",
      "  Cluster Method:     no_cluster   Prob (F-statistic (proj model)):      9.275e-07  \n",
      "                                   DoF of F-test (proj model):        [3.0, 987.0]  \n",
      "                                   F-statistic(full model):                 7.5454  \n",
      "                                   Prob (F-statistic (full model)):      2.354e-14  \n",
      "                                   DoF of F-test (full model):           [13, 987]  \n",
      "============================================================================================\n",
      "                       coef nonrobust std err          t      P>|t|     [0.025     0.975]   \n",
      "--------------------------------------------------------------------------------------------\n",
      "  const            -2.78872           0.20111   -13.8667     0.0000    -3.1834    -2.3941   \n",
      "  x_1               0.96734           0.17862     5.4155     0.0000     0.6168     1.3179   \n",
      "  treatment        -0.37318           1.27172    -0.2934     0.7692    -2.8688     2.1224   \n",
      "  post*treatment    0.94348           1.34052     0.7038     0.4817    -1.6871     3.5741   \n",
      "============================================================================================\n"
     ]
    }
   ],
   "source": [
    "formula = 'y ~ x_1+treatment+post*treatment|time|0|0'\n",
    "\n",
    "model_fe1 = fixedeffect(data_df = df,\n",
    "                formula = formula,\n",
    "                treatment = ['treatment'],            \n",
    "                exp_date=2)\n",
    "result = model_fe1.fit()\n",
    "result.summary()"
   ]
  },
  {
   "cell_type": "code",
   "execution_count": 13,
   "metadata": {},
   "outputs": [
    {
     "name": "stdout",
     "output_type": "stream",
     "text": [
      "dependent variable(s): ['y']\n",
      "independent(exogenous): ['x_1']\n",
      "csid: id\n",
      "tsid: time\n",
      "category variables(fixed effects): ['id', 'time']\n",
      "cluster variables: ['0']\n"
     ]
    },
    {
     "name": "stderr",
     "output_type": "stream",
     "text": [
      "/Users/zhouxiaoyu/Desktop/FixedEffectModel/fixedeffect/utils/GenCrossProd.py:55: UserWarning: You are doing DID with group effect where group is exp or base\n",
      "  warnings.warn('You are doing DID with group effect where group is exp or base')\n"
     ]
    },
    {
     "data": {
      "image/png": "[encoded data removed]",
      "text/plain": [
       "<Figure size 720x432 with 1 Axes>"
      ]
     },
     "metadata": {
      "needs_background": "light"
     },
     "output_type": "display_data"
    },
    {
     "name": "stdout",
     "output_type": "stream",
     "text": [
      "                  High Dimensional Fixed Effect Regression Results                  \n",
      "====================================================================================\n",
      "  Dep. Variable:               y   R-squared(proj model):                   0.0307  \n",
      "  No. Observations:         1000   Adj. R-squared(proj model):             -0.0904  \n",
      "  DoF of residual:         888.0   R-squared(full model):                   0.0905  \n",
      "  Residual std err:       5.8089   Adj. R-squared(full model):             -0.0242  \n",
      "  Covariance Type:     nonrobust   F-statistic(proj model):                 9.3839  \n",
      "  Cluster Method:     no_cluster   Prob (F-statistic (proj model)):      4.137e-06  \n",
      "                                   DoF of F-test (proj model):        [3.0, 888.0]  \n",
      "                                   F-statistic(full model):                 0.7879  \n",
      "                                   Prob (F-statistic (full model)):         0.9443  \n",
      "                                   DoF of F-test (full model):          [112, 888]  \n",
      "=======================================================================================================\n",
      "                                  coef nonrobust std err          t      P>|t|     [0.025     0.975]   \n",
      "-------------------------------------------------------------------------------------------------------\n",
      "  const                       -2.78872           0.21202   -13.1529     0.0000    -3.2049    -2.3726   \n",
      "  x_1                          0.96734           0.18832     5.1367     0.0000     0.5977     1.3369   \n",
      "  treatment*post_experiment    0.94348           1.41327     0.6676     0.5046    -1.8302     3.7172   \n",
      "  treatment                   -0.37318           1.34074    -0.2783     0.7808    -3.0046     2.2582   \n",
      "=======================================================================================================\n"
     ]
    }
   ],
   "source": [
    "formula = 'y ~ x_1|id+time|0|0'\n",
    "\n",
    "model_did = did(data_df = df,\n",
    "                formula = formula,\n",
    "                treatment = ['treatment'],            \n",
    "                exp_date=2)\n",
    "result = model_did.fit()\n",
    "result.summary()"
   ]
  },
  {
   "cell_type": "code",
   "execution_count": 14,
   "metadata": {},
   "outputs": [
    {
     "name": "stdout",
     "output_type": "stream",
     "text": [
      "dependent variable(s): ['y']\n",
      "independent(exogenous): ['x_1', 'post*treatment']\n",
      "category variables(fixed effects): ['id', 'time']\n",
      "cluster variables: ['0']\n",
      "                  High Dimensional Fixed Effect Regression Results                  \n",
      "====================================================================================\n",
      "  Dep. Variable:               y   R-squared(proj model):                   0.0310  \n",
      "  No. Observations:         1000   Adj. R-squared(proj model):             -0.0889  \n",
      "  DoF of residual:         889.0   R-squared(full model):                   0.1944  \n",
      "  Residual std err:       5.4640   Adj. R-squared(full model):              0.0938  \n",
      "  Covariance Type:     nonrobust   F-statistic(proj model):                14.1989  \n",
      "  Cluster Method:     no_cluster   Prob (F-statistic (proj model)):       8.51e-07  \n",
      "                                   DoF of F-test (proj model):        [2.0, 889.0]  \n",
      "                                   F-statistic(full model):                 1.9299  \n",
      "                                   Prob (F-statistic (full model)):      2.118e-07  \n",
      "                                   DoF of F-test (full model):          [111, 889]  \n",
      "============================================================================================\n",
      "                       coef nonrobust std err          t      P>|t|     [0.025     0.975]   \n",
      "--------------------------------------------------------------------------------------------\n",
      "  const            -2.88170           0.34540    -8.3431     0.0000    -3.5596    -2.2038   \n",
      "  x_1               0.98364           0.18627     5.2806     0.0000     0.6180     1.3492   \n",
      "  post*treatment    0.94334           1.32937     0.7096     0.4781    -1.6657     3.5524   \n",
      "============================================================================================\n"
     ]
    }
   ],
   "source": [
    "formula = 'y ~ x_1+post*treatment|id+time|0|0'\n",
    "\n",
    "model_fe1 = fixedeffect(data_df = df,\n",
    "                formula = formula,\n",
    "                treatment = ['treatment'],            \n",
    "                exp_date=2)\n",
    "result = model_fe1.fit()\n",
    "result.summary()"
   ]
  },
  {
   "cell_type": "code",
   "execution_count": 15,
   "metadata": {},
   "outputs": [
    {
     "name": "stdout",
     "output_type": "stream",
     "text": [
      "dependent variable(s): ['y']\n",
      "independent(exogenous): ['x_1']\n",
      "csid: id\n",
      "tsid: time\n",
      "category variables(fixed effects): ['id', 'time']\n",
      "cluster variables: ['0']\n"
     ]
    },
    {
     "name": "stderr",
     "output_type": "stream",
     "text": [
      "/Users/zhouxiaoyu/Desktop/FixedEffectModel/fixedeffect/utils/GenCrossProd.py:57: UserWarning: You are doing DID with individual effect\n",
      "  warnings.warn('You are doing DID with individual effect')\n"
     ]
    },
    {
     "data": {
      "image/png": "[encoded data removed]",
      "text/plain": [
       "<Figure size 720x432 with 1 Axes>"
      ]
     },
     "metadata": {
      "needs_background": "light"
     },
     "output_type": "display_data"
    },
    {
     "name": "stdout",
     "output_type": "stream",
     "text": [
      "                  High Dimensional Fixed Effect Regression Results                  \n",
      "====================================================================================\n",
      "  Dep. Variable:               y   R-squared(proj model):                   0.0310  \n",
      "  No. Observations:         1000   Adj. R-squared(proj model):             -0.0889  \n",
      "  DoF of residual:         889.0   R-squared(full model):                   0.1944  \n",
      "  Residual std err:       5.4640   Adj. R-squared(full model):              0.0938  \n",
      "  Covariance Type:     nonrobust   F-statistic(proj model):                14.1989  \n",
      "  Cluster Method:     no_cluster   Prob (F-statistic (proj model)):       8.51e-07  \n",
      "                                   DoF of F-test (proj model):        [2.0, 889.0]  \n",
      "                                   F-statistic(full model):                 1.9299  \n",
      "                                   Prob (F-statistic (full model)):      2.118e-07  \n",
      "                                   DoF of F-test (full model):          [111, 889]  \n",
      "=======================================================================================================\n",
      "                                  coef nonrobust std err          t      P>|t|     [0.025     0.975]   \n",
      "-------------------------------------------------------------------------------------------------------\n",
      "  const                       -2.88170           0.34540    -8.3431     0.0000    -3.5596    -2.2038   \n",
      "  x_1                          0.98364           0.18627     5.2806     0.0000     0.6180     1.3492   \n",
      "  treatment*post_experiment    0.94334           1.32937     0.7096     0.4781    -1.6657     3.5524   \n",
      "=======================================================================================================\n"
     ]
    }
   ],
   "source": [
    "formula = 'y ~ x_1|id+time|0|0'\n",
    "\n",
    "model_did = did(data_df = df,\n",
    "                formula = formula,\n",
    "                treatment = ['treatment'], \n",
    "                group_effect='individual',\n",
    "                exp_date=2)\n",
    "result = model_did.fit()\n",
    "result.summary()"
   ]
  },
  {
   "cell_type": "code",
   "execution_count": 16,
   "metadata": {},
   "outputs": [
    {
     "name": "stdout",
     "output_type": "stream",
     "text": [
      "dependent variable(s): ['y']\n",
      "independent(exogenous): ['x_1*x_2']\n",
      "csid: id\n",
      "tsid: time\n",
      "category variables(fixed effects): ['id', 'time']\n",
      "cluster variables: ['0']\n"
     ]
    },
    {
     "name": "stderr",
     "output_type": "stream",
     "text": [
      "/Users/zhouxiaoyu/Desktop/FixedEffectModel/fixedeffect/utils/GenCrossProd.py:57: UserWarning: You are doing DID with individual effect\n",
      "  warnings.warn('You are doing DID with individual effect')\n"
     ]
    },
    {
     "data": {
      "image/png": "[encoded data removed]",
      "text/plain": [
       "<Figure size 720x432 with 1 Axes>"
      ]
     },
     "metadata": {
      "needs_background": "light"
     },
     "output_type": "display_data"
    },
    {
     "name": "stdout",
     "output_type": "stream",
     "text": [
      "                  High Dimensional Fixed Effect Regression Results                  \n",
      "====================================================================================\n",
      "  Dep. Variable:               y   R-squared(proj model):                   0.0011  \n",
      "  No. Observations:         1000   Adj. R-squared(proj model):             -0.1225  \n",
      "  DoF of residual:         889.0   R-squared(full model):                   0.1695  \n",
      "  Residual std err:       5.5476   Adj. R-squared(full model):              0.0658  \n",
      "  Covariance Type:     nonrobust   F-statistic(proj model):                 0.4794  \n",
      "  Cluster Method:     no_cluster   Prob (F-statistic (proj model)):         0.6193  \n",
      "                                   DoF of F-test (proj model):        [2.0, 889.0]  \n",
      "                                   F-statistic(full model):                 1.6329  \n",
      "                                   Prob (F-statistic (full model)):         0.0001  \n",
      "                                   DoF of F-test (full model):          [111, 889]  \n",
      "=======================================================================================================\n",
      "                                  coef nonrobust std err          t      P>|t|     [0.025     0.975]   \n",
      "-------------------------------------------------------------------------------------------------------\n",
      "  const                       -2.91235           0.35105    -8.2961     0.0000    -3.6013    -2.2234   \n",
      "  x_1*x_2                      0.12638           0.18613     0.6790     0.4973    -0.2389     0.4917   \n",
      "  treatment*post_experiment    0.98782           1.35072     0.7313     0.4648    -1.6632     3.6388   \n",
      "=======================================================================================================\n"
     ]
    }
   ],
   "source": [
    "formula = 'y ~ x_1*x_2|id+time|0|0'\n",
    "\n",
    "model_did = did(data_df = df,\n",
    "                formula = formula,\n",
    "                treatment = ['treatment'], \n",
    "                group_effect='individual',\n",
    "                exp_date=2)\n",
    "result = model_did.fit()\n",
    "result.summary()"
   ]
  },
  {
   "cell_type": "markdown",
   "metadata": {},
   "source": [
    "# fit_multi_model"
   ]
  },
  {
   "cell_type": "code",
   "execution_count": 17,
   "metadata": {},
   "outputs": [
    {
     "name": "stdout",
     "output_type": "stream",
     "text": [
      "multi                                               \n",
      "====================================================\n",
      "const                      -1.404   -2.669   -2.912 \n",
      "std err                     0.1021   0.0037   0.3511\n",
      "pvalue                     3.4e-39      0.0  4.0e-16\n",
      "x_1                        -1.522   0.9838  Nan     \n",
      "std err                     0.1203   0.2057 Nan     \n",
      "pvalue                     6.9e-34  2.0e-06 Nan     \n",
      "hat_x_2                     97.96  Nan      Nan     \n",
      "std err                     2.2569 Nan      Nan     \n",
      "pvalue                    8.2e-222 Nan      Nan     \n",
      "x_1*x_2                   Nan      Nan       0.1264 \n",
      "std err                   Nan      Nan        0.1861\n",
      "pvalue                    Nan      Nan          0.50\n",
      "treatment*post_experiment Nan      Nan       0.9878 \n",
      "std err                   Nan      Nan        1.3507\n",
      "pvalue                    Nan      Nan          0.46\n",
      "----------------------------------------------------\n"
     ]
    },
    {
     "name": "stderr",
     "output_type": "stream",
     "text": [
      "/Users/zhouxiaoyu/Desktop/FixedEffectModel/fixedeffect/utils/ClusterErr.py:140: UserWarning: Negative eigenvalues set to zero in multi-way clustered variance matrix.\n",
      "  warnings.warn('Negative eigenvalues set to zero in multi-way clustered variance matrix.')\n"
     ]
    }
   ],
   "source": [
    "\n",
    "from fixedeffect.multi_model import fit_multi_model\n",
    "\n",
    "models = [model_iv2sls, model_fe, model_did]\n",
    "fit_multi_model(models)"
   ]
  },
  {
   "cell_type": "code",
   "execution_count": null,
   "metadata": {},
   "outputs": [],
   "source": []
  },
  {
   "cell_type": "code",
   "execution_count": null,
   "metadata": {},
   "outputs": [],
   "source": []
  },
  {
   "cell_type": "code",
   "execution_count": null,
   "metadata": {},
   "outputs": [],
   "source": []
  },
  {
   "cell_type": "code",
   "execution_count": null,
   "metadata": {},
   "outputs": [],
   "source": []
  },
  {
   "cell_type": "code",
   "execution_count": null,
   "metadata": {},
   "outputs": [],
   "source": []
  },
  {
   "cell_type": "code",
   "execution_count": null,
   "metadata": {},
   "outputs": [],
   "source": []
  },
  {
   "cell_type": "code",
   "execution_count": null,
   "metadata": {},
   "outputs": [],
   "source": []
  },
  {
   "cell_type": "code",
   "execution_count": null,
   "metadata": {},
   "outputs": [],
   "source": []
  },
  {
   "cell_type": "code",
   "execution_count": null,
   "metadata": {},
   "outputs": [],
   "source": []
  },
  {
   "cell_type": "code",
   "execution_count": null,
   "metadata": {},
   "outputs": [],
   "source": []
  },
  {
   "cell_type": "code",
   "execution_count": null,
   "metadata": {},
   "outputs": [],
   "source": []
  },
  {
   "cell_type": "code",
   "execution_count": null,
   "metadata": {},
   "outputs": [],
   "source": []
  },
  {
   "cell_type": "code",
   "execution_count": null,
   "metadata": {},
   "outputs": [],
   "source": []
  },
  {
   "cell_type": "code",
   "execution_count": null,
   "metadata": {},
   "outputs": [],
   "source": []
  },
  {
   "cell_type": "code",
   "execution_count": null,
   "metadata": {},
   "outputs": [],
   "source": []
  },
  {
   "cell_type": "code",
   "execution_count": null,
   "metadata": {},
   "outputs": [],
   "source": []
  },
  {
   "cell_type": "code",
   "execution_count": null,
   "metadata": {},
   "outputs": [],
   "source": []
  },
  {
   "cell_type": "code",
   "execution_count": null,
   "metadata": {},
   "outputs": [],
   "source": []
  },
  {
   "cell_type": "code",
   "execution_count": null,
   "metadata": {},
   "outputs": [],
   "source": []
  },
  {
   "cell_type": "code",
   "execution_count": null,
   "metadata": {},
   "outputs": [],
   "source": []
  },
  {
   "cell_type": "code",
   "execution_count": null,
   "metadata": {},
   "outputs": [],
   "source": []
  },
  {
   "cell_type": "code",
   "execution_count": null,
   "metadata": {},
   "outputs": [],
   "source": []
  }
 ],
 "metadata": {
  "kernelspec": {
   "display_name": "Python 3",
   "language": "python",
   "name": "python3"
  },
  "language_info": {
   "codemirror_mode": {
    "name": "ipython",
    "version": 3
   },
   "file_extension": ".py",
   "mimetype": "text/x-python",
   "name": "python",
   "nbconvert_exporter": "python",
   "pygments_lexer": "ipython3",
   "version": "3.8.2"
  }
 },
 "nbformat": 4,
 "nbformat_minor": 4
}
